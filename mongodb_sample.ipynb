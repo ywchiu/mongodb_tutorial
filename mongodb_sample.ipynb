{
 "cells": [
  {
   "cell_type": "markdown",
   "metadata": {},
   "source": [
    "## 安裝 Pymongo"
   ]
  },
  {
   "cell_type": "code",
   "execution_count": 2,
   "metadata": {},
   "outputs": [
    {
     "name": "stdout",
     "output_type": "stream",
     "text": [
      "Collecting pymongo\n",
      "  Downloading pymongo-3.11.0-cp37-cp37m-macosx_10_9_x86_64.whl (378 kB)\n",
      "\u001b[K     |████████████████████████████████| 378 kB 521 kB/s eta 0:00:01\n",
      "\u001b[?25hInstalling collected packages: pymongo\n",
      "Successfully installed pymongo-3.11.0\n"
     ]
    }
   ],
   "source": [
    "! pip install pymongo"
   ]
  },
  {
   "cell_type": "markdown",
   "metadata": {},
   "source": [
    "## MongoDB 基本操作"
   ]
  },
  {
   "cell_type": "markdown",
   "metadata": {},
   "source": [
    "### 測試 MongoDB 連線"
   ]
  },
  {
   "cell_type": "code",
   "execution_count": 6,
   "metadata": {},
   "outputs": [],
   "source": [
    "import pymongo\n",
    "try:\n",
    "    conn = pymongo.MongoClient()\n",
    "except pymongo.errors.ConnectionFailure as e:\n",
    "    print(\"Could not connect to MongoDB: %s\" % e)\n",
    "\n"
   ]
  },
  {
   "cell_type": "markdown",
   "metadata": {},
   "source": [
    "### 列出目前資料庫名稱"
   ]
  },
  {
   "cell_type": "code",
   "execution_count": 8,
   "metadata": {},
   "outputs": [
    {
     "name": "stderr",
     "output_type": "stream",
     "text": [
      "/Users/davidchiu/.pyenv/versions/3.7.3/lib/python3.7/site-packages/ipykernel_launcher.py:1: DeprecationWarning: database_names is deprecated. Use list_database_names instead.\n",
      "  \"\"\"Entry point for launching an IPython kernel.\n"
     ]
    },
    {
     "data": {
      "text/plain": [
       "['admin', 'config', 'local', 'twcom']"
      ]
     },
     "execution_count": 8,
     "metadata": {},
     "output_type": "execute_result"
    }
   ],
   "source": [
    "conn.database_names()"
   ]
  },
  {
   "cell_type": "markdown",
   "metadata": {},
   "source": [
    "### 建立Database"
   ]
  },
  {
   "cell_type": "code",
   "execution_count": 18,
   "metadata": {},
   "outputs": [
    {
     "name": "stdout",
     "output_type": "stream",
     "text": [
      "Database(MongoClient(host=['localhost:27017'], document_class=dict, tz_aware=False, connect=True), 'rent591')\n"
     ]
    }
   ],
   "source": [
    "db = conn['rent591']\n",
    "print(db)"
   ]
  },
  {
   "cell_type": "markdown",
   "metadata": {},
   "source": [
    "### 建立Collection\n"
   ]
  },
  {
   "cell_type": "code",
   "execution_count": 19,
   "metadata": {},
   "outputs": [],
   "source": [
    "coll = db['basic_profile']"
   ]
  },
  {
   "cell_type": "markdown",
   "metadata": {},
   "source": [
    "## 新增資料 (Insert)"
   ]
  },
  {
   "cell_type": "markdown",
   "metadata": {},
   "source": [
    "### 下載JSON\n",
    "- https://raw.githubusercontent.com/ywchiu/mongodb_tutorial/main/data/rent591.json"
   ]
  },
  {
   "cell_type": "code",
   "execution_count": 20,
   "metadata": {},
   "outputs": [],
   "source": [
    "import requests\n",
    "res = requests.get('https://raw.githubusercontent.com/ywchiu/mongodb_tutorial/main/data/rent591.json')\n",
    "with open('rent.json', 'w') as f:\n",
    "    f.write(res.text)"
   ]
  },
  {
   "cell_type": "markdown",
   "metadata": {},
   "source": [
    "### 讀取JSON 資料"
   ]
  },
  {
   "cell_type": "code",
   "execution_count": 22,
   "metadata": {},
   "outputs": [],
   "source": [
    "import json\n",
    "jd = json.loads(open('rent.json','r').read())"
   ]
  },
  {
   "cell_type": "code",
   "execution_count": 24,
   "metadata": {},
   "outputs": [
    {
     "name": "stdout",
     "output_type": "stream",
     "text": [
      "{'id': 9866527, 'user_id': 2991837, 'address': '大安路一段忠孝復興站樓上..', 'type': '1', 'post_id': 9866527, 'regionid': 1, 'sectionid': 5, 'streetid': 25614, 'room': 1, 'area': 11, 'price': '26,800', 'storeprice': 0, 'comment_total': 0, 'comment_unread': 0, 'comment_ltime': 0, 'hasimg': 1, 'kind': 1, 'shape': 2, 'houseage': 0, 'posttime': '14分鐘內', 'updatetime': 1602913536, 'refreshtime': 1602988322, 'checkstatus': 0, 'status': '', 'closed': 0, 'living': 'depart,advstore,market,night,park,school,hospital', 'condition': 'tv,icebox,cold,washer,hotwater,four,broadband,lift,naturalgas,landpost,cook,trabus,balcony_1,lease,bed,wardrobe,sofa,bookTable,chair,all_sex', 'isvip': 1, 'mvip': 1, 'is_combine': 1, 'cover': 'https://hp1.591.com.tw/house/active/2020/09/28/160126732136061501_210x158.crop.jpg', 'browsenum': 104, 'browsenum_all': 3288, 'floor2': 0, 'floor': 7, 'ltime': '2020-10-18 10:32:02', 'cases_id': '', 'social_house': 0, 'distance': 0, 'search_name': '', 'mainarea': None, 'balcony_area': None, 'groundarea': None, 'linkman': '龔先生', 'housetype': 1, 'street_name': '大安路一段', 'alley_name': '', 'lane_name': '', 'addr_number_name': '', 'kind_name_img': '整層住家', 'address_img': '忠孝復興站樓上雙面採光酒店式電梯政商社區', 'cases_name': '一品大廈社區', 'layout': '1房1廳1衛', 'layout_str': '<span class=\"layout\">1房1廳1衛</span>，</span>', 'allfloor': 8, 'floorInfo': '樓層：7/8', 'house_img': '185831038,185395784,185831042,185831039,185831041,185831037,185831036,185395888,185395648,185395761,185831040,', 'houseimg': None, 'cartplace': '', 'space_type_str': '', 'photo_alt': '台北租屋,大安租屋,整層住家出租,忠孝復興站樓上雙面採光酒店式電梯政商社區', 'addition4': 1, 'addition2': 0, 'addition3': 0, 'vipimg': '', 'vipstyle': 'isvip', 'vipBorder': 'vipStyle', 'new_list_comment_total': 0, 'comment_class': 'none', 'price_hide': 'price-hide', 'kind_name': '整層住家', 'photoNum': '11', 'filename': 'https://hp1.591.com.tw/house/active/2020/09/28/160126732136061501_210x158.crop.jpg', 'nick_name': '屋主 龔先生', 'new_img': '', 'regionname': '台北市', 'sectionname': '大安區', 'icon_name': '出租', 'icon_class': 'rent', 'fulladdress': '大安路一段忠孝復興站樓上雙面採光酒店式電梯政商社區', 'address_img_title': '忠孝復興站樓上雙面採光酒店式電梯政商社區', 'browsenum_name': '昨日瀏覽', 'unit': '元/月', 'houseid': 9866527, 'region_name': '台北市', 'section_name': '大安區', 'addInfo': '', 'onepxImg': ''}\n"
     ]
    }
   ],
   "source": [
    "print(jd[0])"
   ]
  },
  {
   "cell_type": "markdown",
   "metadata": {},
   "source": [
    "### 匯入JSON 資料"
   ]
  },
  {
   "cell_type": "code",
   "execution_count": 29,
   "metadata": {},
   "outputs": [
    {
     "data": {
      "text/plain": [
       "<pymongo.results.InsertManyResult at 0x113683bc8>"
      ]
     },
     "execution_count": 29,
     "metadata": {},
     "output_type": "execute_result"
    }
   ],
   "source": [
    "coll.insert_many(jd)"
   ]
  },
  {
   "cell_type": "markdown",
   "metadata": {},
   "source": [
    "### 統計匯入資料筆數"
   ]
  },
  {
   "cell_type": "code",
   "execution_count": 31,
   "metadata": {},
   "outputs": [
    {
     "name": "stderr",
     "output_type": "stream",
     "text": [
      "/Users/davidchiu/.pyenv/versions/3.7.3/lib/python3.7/site-packages/ipykernel_launcher.py:1: DeprecationWarning: count is deprecated. Use estimated_document_count or count_documents instead. Please note that $where must be replaced by $expr, $near must be replaced by $geoWithin with $center, and $nearSphere must be replaced by $geoWithin with $centerSphere\n",
      "  \"\"\"Entry point for launching an IPython kernel.\n"
     ]
    },
    {
     "data": {
      "text/plain": [
       "840"
      ]
     },
     "execution_count": 31,
     "metadata": {},
     "output_type": "execute_result"
    }
   ],
   "source": [
    "coll.count()"
   ]
  },
  {
   "cell_type": "markdown",
   "metadata": {},
   "source": [
    "## 資料篩選 (Find)"
   ]
  },
  {
   "cell_type": "markdown",
   "metadata": {},
   "source": [
    "### 找出第一筆資料"
   ]
  },
  {
   "cell_type": "code",
   "execution_count": 33,
   "metadata": {},
   "outputs": [
    {
     "name": "stdout",
     "output_type": "stream",
     "text": [
      "{'_id': ObjectId('5f8bb25a6eba2b752b3026ea'), 'id': 9866527, 'user_id': 2991837, 'address': '大安路一段忠孝復興站樓上..', 'type': '1', 'post_id': 9866527, 'regionid': 1, 'sectionid': 5, 'streetid': 25614, 'room': 1, 'area': 11, 'price': '26,800', 'storeprice': 0, 'comment_total': 0, 'comment_unread': 0, 'comment_ltime': 0, 'hasimg': 1, 'kind': 1, 'shape': 2, 'houseage': 0, 'posttime': '14分鐘內', 'updatetime': 1602913536, 'refreshtime': 1602988322, 'checkstatus': 0, 'status': '', 'closed': 0, 'living': 'depart,advstore,market,night,park,school,hospital', 'condition': 'tv,icebox,cold,washer,hotwater,four,broadband,lift,naturalgas,landpost,cook,trabus,balcony_1,lease,bed,wardrobe,sofa,bookTable,chair,all_sex', 'isvip': 1, 'mvip': 1, 'is_combine': 1, 'cover': 'https://hp1.591.com.tw/house/active/2020/09/28/160126732136061501_210x158.crop.jpg', 'browsenum': 104, 'browsenum_all': 3288, 'floor2': 0, 'floor': 7, 'ltime': '2020-10-18 10:32:02', 'cases_id': '', 'social_house': 0, 'distance': 0, 'search_name': '', 'mainarea': None, 'balcony_area': None, 'groundarea': None, 'linkman': '龔先生', 'housetype': 1, 'street_name': '大安路一段', 'alley_name': '', 'lane_name': '', 'addr_number_name': '', 'kind_name_img': '整層住家', 'address_img': '忠孝復興站樓上雙面採光酒店式電梯政商社區', 'cases_name': '一品大廈社區', 'layout': '1房1廳1衛', 'layout_str': '<span class=\"layout\">1房1廳1衛</span>，</span>', 'allfloor': 8, 'floorInfo': '樓層：7/8', 'house_img': '185831038,185395784,185831042,185831039,185831041,185831037,185831036,185395888,185395648,185395761,185831040,', 'houseimg': None, 'cartplace': '', 'space_type_str': '', 'photo_alt': '台北租屋,大安租屋,整層住家出租,忠孝復興站樓上雙面採光酒店式電梯政商社區', 'addition4': 1, 'addition2': 0, 'addition3': 0, 'vipimg': '', 'vipstyle': 'isvip', 'vipBorder': 'vipStyle', 'new_list_comment_total': 0, 'comment_class': 'none', 'price_hide': 'price-hide', 'kind_name': '整層住家', 'photoNum': '11', 'filename': 'https://hp1.591.com.tw/house/active/2020/09/28/160126732136061501_210x158.crop.jpg', 'nick_name': '屋主 龔先生', 'new_img': '', 'regionname': '台北市', 'sectionname': '大安區', 'icon_name': '出租', 'icon_class': 'rent', 'fulladdress': '大安路一段忠孝復興站樓上雙面採光酒店式電梯政商社區', 'address_img_title': '忠孝復興站樓上雙面採光酒店式電梯政商社區', 'browsenum_name': '昨日瀏覽', 'unit': '元/月', 'houseid': 9866527, 'region_name': '台北市', 'section_name': '大安區', 'addInfo': '', 'onepxImg': ''}\n"
     ]
    }
   ],
   "source": [
    "print(coll.find_one())"
   ]
  },
  {
   "cell_type": "markdown",
   "metadata": {},
   "source": [
    "### 根據時間條件篩選"
   ]
  },
  {
   "cell_type": "code",
   "execution_count": 36,
   "metadata": {},
   "outputs": [
    {
     "data": {
      "text/plain": [
       "15"
      ]
     },
     "execution_count": 36,
     "metadata": {},
     "output_type": "execute_result"
    }
   ],
   "source": [
    "cur = coll.find({'ltime':{ '$lt' : '2020-10-18'}})\n",
    "\n",
    "len([doc for doc in cur])"
   ]
  },
  {
   "cell_type": "markdown",
   "metadata": {},
   "source": [
    "### 根據字串比對"
   ]
  },
  {
   "cell_type": "code",
   "execution_count": 37,
   "metadata": {},
   "outputs": [
    {
     "name": "stdout",
     "output_type": "stream",
     "text": [
      "{'_id': ObjectId('5f8bb25a6eba2b752b302746'), 'id': 9861404, 'user_id': 2937190, 'address': '仁愛路三段住商信義安和店..', 'type': '1', 'post_id': 9861404, 'regionid': 1, 'sectionid': 5, 'streetid': 25616, 'room': 3, 'area': 88.8, 'price': '400,000', 'storeprice': 0, 'comment_total': 0, 'comment_unread': 0, 'comment_ltime': 0, 'hasimg': 1, 'kind': 1, 'shape': 2, 'houseage': 0, 'posttime': '3小時內', 'updatetime': 1600759337, 'refreshtime': 1602979202, 'checkstatus': 1, 'status': '', 'closed': 0, 'living': '', 'condition': 'tv,icebox,cold,washer,hotwater,lift,naturalgas,cartplace,pet,cook,balcony_1,bed,wardrobe,sofa,bookTable,chair,all_sex', 'isvip': 1, 'mvip': 1, 'is_combine': 1, 'cover': 'https://hp2.591.com.tw/house/active/2020/09/22/160075825660868309_210x158.crop.jpg', 'browsenum': 50, 'browsenum_all': 1783, 'floor2': 0, 'floor': 13, 'ltime': '2020-10-18 08:02:04', 'cases_id': 5671, 'social_house': 0, 'distance': 0, 'search_name': '', 'mainarea': None, 'balcony_area': None, 'groundarea': None, 'linkman': '江先生', 'housetype': 3, 'street_name': '仁愛路三段', 'alley_name': '', 'lane_name': '', 'addr_number_name': '', 'kind_name_img': '整層住家', 'address_img': '住商信義安和店✅帝寶高樓美邸', 'cases_name': '仁愛帝寶', 'layout': '3房2廳4衛', 'layout_str': '<span class=\"layout\">3房2廳4衛</span>，</span>', 'allfloor': 28, 'floorInfo': '樓層：13/28', 'house_img': '185279132,185279123,185279119,185279118,185279139,185279161,185279168,185279174,185279177,185279180,185279170,185279179,185279175,185279178,185279149,', 'houseimg': None, 'cartplace': '', 'space_type_str': '', 'photo_alt': '台北租屋,大安租屋,整層住家出租,住商信義安和店✅帝寶高樓美邸', 'addition4': 1, 'addition2': 0, 'addition3': 0, 'vipimg': '', 'vipstyle': 'isvip', 'vipBorder': 'vipStyle', 'new_list_comment_total': 0, 'comment_class': 'none', 'price_hide': 'price-hide', 'kind_name': '整層住家', 'photoNum': '15', 'filename': 'https://hp2.591.com.tw/house/active/2020/09/22/160075825660868309_210x158.crop.jpg', 'nick_name': '仲介 江先生', 'new_img': '', 'regionname': '台北市', 'sectionname': '大安區', 'icon_name': '出租', 'icon_class': 'rent', 'fulladdress': '仁愛路三段住商信義安和店✅帝寶高樓美邸', 'address_img_title': '住商信義安和店✅帝寶高樓美邸', 'browsenum_name': '昨日瀏覽', 'unit': '元/月', 'houseid': 9861404, 'region_name': '台北市', 'section_name': '大安區', 'addInfo': '', 'onepxImg': ''}\n",
      "{'_id': ObjectId('5f8bb25a6eba2b752b302911'), 'id': 9949056, 'user_id': 2621275, 'address': '仁愛路三段帝寶景觀豪宅', 'type': '1', 'post_id': 9949056, 'regionid': 1, 'sectionid': 5, 'streetid': 25616, 'room': 3, 'area': 176.2, 'price': '380,000', 'storeprice': 0, 'comment_total': 0, 'comment_unread': 0, 'comment_ltime': 0, 'hasimg': 1, 'kind': 1, 'shape': 2, 'houseage': 0, 'posttime': '3小時內', 'updatetime': 1602487781, 'refreshtime': 1602979202, 'checkstatus': 1, 'status': '', 'closed': 0, 'living': '', 'condition': 'tv,icebox,cold,washer,hotwater,four,broadband,lift,naturalgas,pet,cook,balcony_1,bed,wardrobe,sofa,bookTable,chair,all_sex', 'isvip': 1, 'mvip': 1, 'is_combine': 0, 'cover': 'https://hp2.591.com.tw/house/active/2020/10/12/160249073754714945_210x158.crop.jpg', 'browsenum': 42, 'browsenum_all': 335, 'floor2': 0, 'floor': 13, 'ltime': '2020-10-18 08:03:28', 'cases_id': 5671, 'social_house': 0, 'distance': 0, 'search_name': '', 'mainarea': None, 'balcony_area': None, 'groundarea': None, 'linkman': '黃小姐', 'housetype': 3, 'street_name': '仁愛路三段', 'alley_name': '', 'lane_name': '', 'addr_number_name': '', 'kind_name_img': '整層住家', 'address_img': '帝寶景觀豪宅', 'cases_name': '仁愛帝寶', 'layout': '3房2廳4衛', 'layout_str': '<span class=\"layout\">3房2廳4衛</span>，</span>', 'allfloor': 28, 'floorInfo': '樓層：13/28', 'house_img': '187266198,187342172,', 'houseimg': None, 'cartplace': '', 'space_type_str': '', 'photo_alt': '台北租屋,大安租屋,整層住家出租,帝寶景觀豪宅', 'addition4': 0, 'addition2': 0, 'addition3': 0, 'vipimg': '<img src=\"./images/index/userCenter/list_vip_v1.png\"  border=\"0\" align=\"absmiddle\" class=\"vipimg\" alt=\"VIP物件\" title=\"VIP物件\"/>', 'vipstyle': 'isvip', 'vipBorder': 'vipStyle', 'new_list_comment_total': 0, 'comment_class': 'none', 'price_hide': 'price-hide', 'kind_name': '整層住家', 'photoNum': '2', 'filename': 'https://hp2.591.com.tw/house/active/2020/10/12/160249073754714945_210x158.crop.jpg', 'nick_name': '仲介 黃小姐', 'new_img': '', 'regionname': '台北市', 'sectionname': '大安區', 'icon_name': '出租', 'icon_class': 'rent', 'fulladdress': '仁愛路三段帝寶景觀豪宅', 'address_img_title': '帝寶景觀豪宅', 'browsenum_name': '昨日瀏覽', 'unit': '元/月', 'houseid': 9949056, 'region_name': '台北市', 'section_name': '大安區', 'addInfo': '<img src=\"./images/index/userCenter/list_vip_v1.png\"  border=\"0\" align=\"absmiddle\" class=\"vipimg\" alt=\"VIP物件\" title=\"VIP物件\"/>', 'onepxImg': ''}\n"
     ]
    }
   ],
   "source": [
    "cur = coll.find({'fulladdress': {'$regex' :'帝寶'}})\n",
    "for doc in cur:\n",
    "    print(doc)"
   ]
  },
  {
   "attachments": {},
   "cell_type": "markdown",
   "metadata": {},
   "source": [
    "### 排序及限制回傳筆數"
   ]
  },
  {
   "cell_type": "code",
   "execution_count": 38,
   "metadata": {},
   "outputs": [
    {
     "name": "stdout",
     "output_type": "stream",
     "text": [
      "{'_id': ObjectId('5f8bb25a6eba2b752b302746'), 'id': 9861404, 'user_id': 2937190, 'address': '仁愛路三段住商信義安和店..', 'type': '1', 'post_id': 9861404, 'regionid': 1, 'sectionid': 5, 'streetid': 25616, 'room': 3, 'area': 88.8, 'price': '400,000', 'storeprice': 0, 'comment_total': 0, 'comment_unread': 0, 'comment_ltime': 0, 'hasimg': 1, 'kind': 1, 'shape': 2, 'houseage': 0, 'posttime': '3小時內', 'updatetime': 1600759337, 'refreshtime': 1602979202, 'checkstatus': 1, 'status': '', 'closed': 0, 'living': '', 'condition': 'tv,icebox,cold,washer,hotwater,lift,naturalgas,cartplace,pet,cook,balcony_1,bed,wardrobe,sofa,bookTable,chair,all_sex', 'isvip': 1, 'mvip': 1, 'is_combine': 1, 'cover': 'https://hp2.591.com.tw/house/active/2020/09/22/160075825660868309_210x158.crop.jpg', 'browsenum': 50, 'browsenum_all': 1783, 'floor2': 0, 'floor': 13, 'ltime': '2020-10-18 08:02:04', 'cases_id': 5671, 'social_house': 0, 'distance': 0, 'search_name': '', 'mainarea': None, 'balcony_area': None, 'groundarea': None, 'linkman': '江先生', 'housetype': 3, 'street_name': '仁愛路三段', 'alley_name': '', 'lane_name': '', 'addr_number_name': '', 'kind_name_img': '整層住家', 'address_img': '住商信義安和店✅帝寶高樓美邸', 'cases_name': '仁愛帝寶', 'layout': '3房2廳4衛', 'layout_str': '<span class=\"layout\">3房2廳4衛</span>，</span>', 'allfloor': 28, 'floorInfo': '樓層：13/28', 'house_img': '185279132,185279123,185279119,185279118,185279139,185279161,185279168,185279174,185279177,185279180,185279170,185279179,185279175,185279178,185279149,', 'houseimg': None, 'cartplace': '', 'space_type_str': '', 'photo_alt': '台北租屋,大安租屋,整層住家出租,住商信義安和店✅帝寶高樓美邸', 'addition4': 1, 'addition2': 0, 'addition3': 0, 'vipimg': '', 'vipstyle': 'isvip', 'vipBorder': 'vipStyle', 'new_list_comment_total': 0, 'comment_class': 'none', 'price_hide': 'price-hide', 'kind_name': '整層住家', 'photoNum': '15', 'filename': 'https://hp2.591.com.tw/house/active/2020/09/22/160075825660868309_210x158.crop.jpg', 'nick_name': '仲介 江先生', 'new_img': '', 'regionname': '台北市', 'sectionname': '大安區', 'icon_name': '出租', 'icon_class': 'rent', 'fulladdress': '仁愛路三段住商信義安和店✅帝寶高樓美邸', 'address_img_title': '住商信義安和店✅帝寶高樓美邸', 'browsenum_name': '昨日瀏覽', 'unit': '元/月', 'houseid': 9861404, 'region_name': '台北市', 'section_name': '大安區', 'addInfo': '', 'onepxImg': ''}\n"
     ]
    }
   ],
   "source": [
    "# 預設為pymongo.ASCENDING - 由小排到大\n",
    "\n",
    "cur = coll.find({'fulladdress': {'$regex' :'帝寶'}})\\\n",
    "    .sort('ltime').limit(1)\n",
    "\n",
    "for doc in cur:\n",
    "    print(doc)"
   ]
  },
  {
   "cell_type": "code",
   "execution_count": 41,
   "metadata": {},
   "outputs": [
    {
     "name": "stdout",
     "output_type": "stream",
     "text": [
      "{'_id': ObjectId('5f8bb25a6eba2b752b302911'), 'id': 9949056, 'user_id': 2621275, 'address': '仁愛路三段帝寶景觀豪宅', 'type': '1', 'post_id': 9949056, 'regionid': 1, 'sectionid': 5, 'streetid': 25616, 'room': 3, 'area': 176.2, 'price': '380,000', 'storeprice': 0, 'comment_total': 0, 'comment_unread': 0, 'comment_ltime': 0, 'hasimg': 1, 'kind': 1, 'shape': 2, 'houseage': 0, 'posttime': '3小時內', 'updatetime': 1602487781, 'refreshtime': 1602979202, 'checkstatus': 1, 'status': '', 'closed': 0, 'living': '', 'condition': 'tv,icebox,cold,washer,hotwater,four,broadband,lift,naturalgas,pet,cook,balcony_1,bed,wardrobe,sofa,bookTable,chair,all_sex', 'isvip': 1, 'mvip': 1, 'is_combine': 0, 'cover': 'https://hp2.591.com.tw/house/active/2020/10/12/160249073754714945_210x158.crop.jpg', 'browsenum': 42, 'browsenum_all': 335, 'floor2': 0, 'floor': 13, 'ltime': '2020-10-18 08:03:28', 'cases_id': 5671, 'social_house': 0, 'distance': 0, 'search_name': '', 'mainarea': None, 'balcony_area': None, 'groundarea': None, 'linkman': '黃小姐', 'housetype': 3, 'street_name': '仁愛路三段', 'alley_name': '', 'lane_name': '', 'addr_number_name': '', 'kind_name_img': '整層住家', 'address_img': '帝寶景觀豪宅', 'cases_name': '仁愛帝寶', 'layout': '3房2廳4衛', 'layout_str': '<span class=\"layout\">3房2廳4衛</span>，</span>', 'allfloor': 28, 'floorInfo': '樓層：13/28', 'house_img': '187266198,187342172,', 'houseimg': None, 'cartplace': '', 'space_type_str': '', 'photo_alt': '台北租屋,大安租屋,整層住家出租,帝寶景觀豪宅', 'addition4': 0, 'addition2': 0, 'addition3': 0, 'vipimg': '<img src=\"./images/index/userCenter/list_vip_v1.png\"  border=\"0\" align=\"absmiddle\" class=\"vipimg\" alt=\"VIP物件\" title=\"VIP物件\"/>', 'vipstyle': 'isvip', 'vipBorder': 'vipStyle', 'new_list_comment_total': 0, 'comment_class': 'none', 'price_hide': 'price-hide', 'kind_name': '整層住家', 'photoNum': '2', 'filename': 'https://hp2.591.com.tw/house/active/2020/10/12/160249073754714945_210x158.crop.jpg', 'nick_name': '仲介 黃小姐', 'new_img': '', 'regionname': '台北市', 'sectionname': '大安區', 'icon_name': '出租', 'icon_class': 'rent', 'fulladdress': '仁愛路三段帝寶景觀豪宅', 'address_img_title': '帝寶景觀豪宅', 'browsenum_name': '昨日瀏覽', 'unit': '元/月', 'houseid': 9949056, 'region_name': '台北市', 'section_name': '大安區', 'addInfo': '<img src=\"./images/index/userCenter/list_vip_v1.png\"  border=\"0\" align=\"absmiddle\" class=\"vipimg\" alt=\"VIP物件\" title=\"VIP物件\"/>', 'onepxImg': ''}\n"
     ]
    }
   ],
   "source": [
    "# 設定為由大排到小\n",
    "cur = coll.find({'fulladdress': {'$regex' :'帝寶'}})\\\n",
    "    .sort('ltime',pymongo.DESCENDING).limit(1)\n",
    "\n",
    "for doc in cur:\n",
    "    print(doc)"
   ]
  },
  {
   "cell_type": "markdown",
   "metadata": {},
   "source": [
    "## 修改資料 (Update)"
   ]
  },
  {
   "cell_type": "markdown",
   "metadata": {},
   "source": [
    "### 修改單筆資料"
   ]
  },
  {
   "cell_type": "code",
   "execution_count": 62,
   "metadata": {},
   "outputs": [],
   "source": [
    "result = coll.update_one(\n",
    "    {\"id\": 9949056},\n",
    "    {\n",
    "        \"$set\": {\n",
    "            \"searchdate\": \"2020-10-18\"\n",
    "        }\n",
    "    }\n",
    ")\n"
   ]
  },
  {
   "cell_type": "code",
   "execution_count": 63,
   "metadata": {},
   "outputs": [
    {
     "data": {
      "text/plain": [
       "<pymongo.results.UpdateResult at 0x113b7d908>"
      ]
     },
     "execution_count": 63,
     "metadata": {},
     "output_type": "execute_result"
    }
   ],
   "source": [
    "result"
   ]
  },
  {
   "cell_type": "code",
   "execution_count": 65,
   "metadata": {},
   "outputs": [
    {
     "name": "stdout",
     "output_type": "stream",
     "text": [
      "2020-10-18\n"
     ]
    }
   ],
   "source": [
    "cur = coll.find({\"id\": 9949056})\n",
    "for doc in cur:\n",
    "    print(doc.get('searchdate'))"
   ]
  },
  {
   "cell_type": "markdown",
   "metadata": {},
   "source": [
    "### 修改多筆資料"
   ]
  },
  {
   "cell_type": "code",
   "execution_count": 66,
   "metadata": {},
   "outputs": [
    {
     "name": "stderr",
     "output_type": "stream",
     "text": [
      "/Users/davidchiu/.pyenv/versions/3.7.3/lib/python3.7/site-packages/ipykernel_launcher.py:2: DeprecationWarning: update is deprecated. Use replace_one, update_one or update_many instead.\n",
      "  \n"
     ]
    }
   ],
   "source": [
    "# 增添搜尋日期\n",
    "for obj in coll.find():\n",
    "    coll.update({'_id':obj['_id']},{'$set':{'searchdate' : \"2020-10-18\"}})"
   ]
  },
  {
   "cell_type": "code",
   "execution_count": 68,
   "metadata": {},
   "outputs": [
    {
     "name": "stderr",
     "output_type": "stream",
     "text": [
      "/Users/davidchiu/.pyenv/versions/3.7.3/lib/python3.7/site-packages/ipykernel_launcher.py:3: DeprecationWarning: update is deprecated. Use replace_one, update_one or update_many instead.\n",
      "  This is separate from the ipykernel package so we can avoid doing imports until\n"
     ]
    }
   ],
   "source": [
    "# 將金額全部改為整數\n",
    "for obj in coll.find():\n",
    "    coll.update({'_id':obj['_id']},{'$set':{'price' : int(obj['price'].replace(',',''))}})"
   ]
  },
  {
   "cell_type": "code",
   "execution_count": 69,
   "metadata": {},
   "outputs": [
    {
     "data": {
      "text/plain": [
       "380000"
      ]
     },
     "execution_count": 69,
     "metadata": {},
     "output_type": "execute_result"
    }
   ],
   "source": [
    "cur = coll.find_one({\"id\": 9949056})\n",
    "cur.get('price')"
   ]
  },
  {
   "cell_type": "markdown",
   "metadata": {},
   "source": [
    "### 根據金額排序物件"
   ]
  },
  {
   "cell_type": "code",
   "execution_count": 71,
   "metadata": {},
   "outputs": [
    {
     "name": "stdout",
     "output_type": "stream",
     "text": [
      "9861404 仁愛路三段住商信義安和店.. 400000\n",
      "9949056 仁愛路三段帝寶景觀豪宅 380000\n",
      "9897127 敦化北路小巨蛋全新裝潢名人加.. 350000\n"
     ]
    }
   ],
   "source": [
    "# 預設為pymongo.ASCENDING - 由小排到大\n",
    "\n",
    "cur = coll.find().sort('price', pymongo.DESCENDING).limit(3)\n",
    "\n",
    "for doc in cur:\n",
    "    print(doc.get('id'), doc.get('address'), doc.get('price'))"
   ]
  },
  {
   "cell_type": "markdown",
   "metadata": {},
   "source": [
    "## 統計資料 (Aggregate)"
   ]
  },
  {
   "cell_type": "markdown",
   "metadata": {},
   "source": [
    "### 計算區域數量"
   ]
  },
  {
   "cell_type": "code",
   "execution_count": 78,
   "metadata": {},
   "outputs": [
    {
     "data": {
      "text/plain": [
       "[{'_id': '萬華區', 'count': 29},\n",
       " {'_id': '南港區', 'count': 47},\n",
       " {'_id': '松山區', 'count': 53},\n",
       " {'_id': '北投區', 'count': 29},\n",
       " {'_id': '大安區', 'count': 120},\n",
       " {'_id': '士林區', 'count': 70},\n",
       " {'_id': '大同區', 'count': 51},\n",
       " {'_id': '文山區', 'count': 44},\n",
       " {'_id': '信義區', 'count': 94},\n",
       " {'_id': '中正區', 'count': 71},\n",
       " {'_id': '內湖區', 'count': 91},\n",
       " {'_id': '中山區', 'count': 141}]"
      ]
     },
     "execution_count": 78,
     "metadata": {},
     "output_type": "execute_result"
    }
   ],
   "source": [
    "pipeline = [\n",
    "     {\"$unwind\": \"$section_name\"},\n",
    "     {\"$group\": {\"_id\": \"$section_name\", \"count\": {\"$sum\": 1}}}\n",
    "]\n",
    "\n",
    "list(coll.aggregate(pipeline))"
   ]
  },
  {
   "cell_type": "markdown",
   "metadata": {},
   "source": [
    "### 計算區域價格加總並排序"
   ]
  },
  {
   "cell_type": "code",
   "execution_count": 83,
   "metadata": {},
   "outputs": [
    {
     "data": {
      "text/plain": [
       "[{'_id': '大安區', 'sum': 7744202},\n",
       " {'_id': '中山區', 'sum': 6122404},\n",
       " {'_id': '內湖區', 'sum': 5389386},\n",
       " {'_id': '士林區', 'sum': 4984388},\n",
       " {'_id': '信義區', 'sum': 4881408},\n",
       " {'_id': '中正區', 'sum': 3102495},\n",
       " {'_id': '松山區', 'sum': 2958405},\n",
       " {'_id': '南港區', 'sum': 2543298},\n",
       " {'_id': '大同區', 'sum': 2092300},\n",
       " {'_id': '文山區', 'sum': 1318300},\n",
       " {'_id': '北投區', 'sum': 1059600},\n",
       " {'_id': '萬華區', 'sum': 990798}]"
      ]
     },
     "execution_count": 83,
     "metadata": {},
     "output_type": "execute_result"
    }
   ],
   "source": [
    "\n",
    "from bson.son import SON\n",
    "pipeline = [\n",
    "     {\"$unwind\": \"$section_name\"},\n",
    "     {\"$group\": {\"_id\": \"$section_name\", \"sum\": {\"$sum\": \"$price\"}}},\n",
    "     {\"$sort\": SON([(\"sum\", -1)])}\n",
    "]\n",
    "\n",
    "list(coll.aggregate(pipeline))"
   ]
  },
  {
   "cell_type": "markdown",
   "metadata": {},
   "source": [
    "### 計算區域平均價格並排序"
   ]
  },
  {
   "cell_type": "code",
   "execution_count": 86,
   "metadata": {},
   "outputs": [
    {
     "data": {
      "text/plain": [
       "[{'_id': '士林區', 'mean': 71205.54285714286},\n",
       " {'_id': '大安區', 'mean': 64535.01666666667},\n",
       " {'_id': '內湖區', 'mean': 59224.02197802198},\n",
       " {'_id': '松山區', 'mean': 55818.96226415094},\n",
       " {'_id': '南港區', 'mean': 54112.72340425532},\n",
       " {'_id': '信義區', 'mean': 51929.87234042553},\n",
       " {'_id': '中正區', 'mean': 43697.112676056335},\n",
       " {'_id': '中山區', 'mean': 43421.304964539006},\n",
       " {'_id': '大同區', 'mean': 41025.490196078434},\n",
       " {'_id': '北投區', 'mean': 36537.93103448276},\n",
       " {'_id': '萬華區', 'mean': 34165.44827586207},\n",
       " {'_id': '文山區', 'mean': 29961.363636363636}]"
      ]
     },
     "execution_count": 86,
     "metadata": {},
     "output_type": "execute_result"
    }
   ],
   "source": [
    "from bson.son import SON\n",
    "pipeline = [\n",
    "     {\"$unwind\": \"$section_name\"},\n",
    "     {\"$group\": {\"_id\": \"$section_name\", \"mean\": {\"$avg\": \"$price\"}}},\n",
    "     {\"$sort\": SON([(\"mean\", -1)])}\n",
    "]\n",
    "\n",
    "list(coll.aggregate(pipeline))"
   ]
  },
  {
   "cell_type": "markdown",
   "metadata": {},
   "source": [
    "### 根據多個欄位統計"
   ]
  },
  {
   "cell_type": "code",
   "execution_count": 97,
   "metadata": {},
   "outputs": [
    {
     "data": {
      "text/plain": [
       "[{'_id': {'region': '台北市', 'section': '士林區'}, 'mean': 71205.54285714286},\n",
       " {'_id': {'region': '台北市', 'section': '大安區'}, 'mean': 64535.01666666667},\n",
       " {'_id': {'region': '台北市', 'section': '內湖區'}, 'mean': 59224.02197802198},\n",
       " {'_id': {'region': '台北市', 'section': '松山區'}, 'mean': 55818.96226415094},\n",
       " {'_id': {'region': '台北市', 'section': '南港區'}, 'mean': 54112.72340425532},\n",
       " {'_id': {'region': '台北市', 'section': '信義區'}, 'mean': 51929.87234042553},\n",
       " {'_id': {'region': '台北市', 'section': '中正區'}, 'mean': 43697.112676056335},\n",
       " {'_id': {'region': '台北市', 'section': '中山區'}, 'mean': 43421.304964539006},\n",
       " {'_id': {'region': '台北市', 'section': '大同區'}, 'mean': 41025.490196078434},\n",
       " {'_id': {'region': '台北市', 'section': '北投區'}, 'mean': 36537.93103448276},\n",
       " {'_id': {'region': '台北市', 'section': '萬華區'}, 'mean': 34165.44827586207},\n",
       " {'_id': {'region': '台北市', 'section': '文山區'}, 'mean': 29961.363636363636}]"
      ]
     },
     "execution_count": 97,
     "metadata": {},
     "output_type": "execute_result"
    }
   ],
   "source": [
    "from bson.son import SON\n",
    "pipeline = [\n",
    "     {\"$unwind\": \"$regionname\"},\n",
    "     {\"$unwind\": \"$sectionname\"},\n",
    "     {\"$group\": {\"_id\": { 'region'  : '$regionname',\n",
    "                          'section' : '$sectionname'\n",
    "                        }, \"mean\": {\"$avg\": \"$price\"}}},\n",
    "     {\"$sort\": SON([(\"mean\", -1)])}\n",
    "]\n",
    "\n",
    "list(coll.aggregate(pipeline))"
   ]
  },
  {
   "cell_type": "markdown",
   "metadata": {},
   "source": [
    "### 根據多個欄位產生多項統計"
   ]
  },
  {
   "cell_type": "code",
   "execution_count": 98,
   "metadata": {},
   "outputs": [
    {
     "data": {
      "text/plain": [
       "[{'_id': {'region': '台北市', 'section': '士林區'},\n",
       "  'mean': 71205.54285714286,\n",
       "  'cnt': 70},\n",
       " {'_id': {'region': '台北市', 'section': '大安區'},\n",
       "  'mean': 64535.01666666667,\n",
       "  'cnt': 120},\n",
       " {'_id': {'region': '台北市', 'section': '內湖區'},\n",
       "  'mean': 59224.02197802198,\n",
       "  'cnt': 91},\n",
       " {'_id': {'region': '台北市', 'section': '松山區'},\n",
       "  'mean': 55818.96226415094,\n",
       "  'cnt': 53},\n",
       " {'_id': {'region': '台北市', 'section': '南港區'},\n",
       "  'mean': 54112.72340425532,\n",
       "  'cnt': 47},\n",
       " {'_id': {'region': '台北市', 'section': '信義區'},\n",
       "  'mean': 51929.87234042553,\n",
       "  'cnt': 94},\n",
       " {'_id': {'region': '台北市', 'section': '中正區'},\n",
       "  'mean': 43697.112676056335,\n",
       "  'cnt': 71},\n",
       " {'_id': {'region': '台北市', 'section': '中山區'},\n",
       "  'mean': 43421.304964539006,\n",
       "  'cnt': 141},\n",
       " {'_id': {'region': '台北市', 'section': '大同區'},\n",
       "  'mean': 41025.490196078434,\n",
       "  'cnt': 51},\n",
       " {'_id': {'region': '台北市', 'section': '北投區'},\n",
       "  'mean': 36537.93103448276,\n",
       "  'cnt': 29},\n",
       " {'_id': {'region': '台北市', 'section': '萬華區'},\n",
       "  'mean': 34165.44827586207,\n",
       "  'cnt': 29},\n",
       " {'_id': {'region': '台北市', 'section': '文山區'},\n",
       "  'mean': 29961.363636363636,\n",
       "  'cnt': 44}]"
      ]
     },
     "execution_count": 98,
     "metadata": {},
     "output_type": "execute_result"
    }
   ],
   "source": [
    "from bson.son import SON\n",
    "pipeline = [\n",
    "     {\"$unwind\": \"$regionname\"},\n",
    "     {\"$unwind\": \"$sectionname\"},\n",
    "     {\"$group\": {\"_id\": { 'region'  : '$regionname',\n",
    "                          'section' : '$sectionname'\n",
    "                        }, \"mean\": {\"$avg\": \"$price\"}, \"cnt\": {\"$sum\":1}}},\n",
    "     {\"$sort\": SON([(\"mean\", -1)])}\n",
    "]\n",
    "\n",
    "list(coll.aggregate(pipeline))"
   ]
  },
  {
   "attachments": {},
   "cell_type": "markdown",
   "metadata": {},
   "source": [
    "## 刪除Mongo 內的資料"
   ]
  },
  {
   "attachments": {},
   "cell_type": "markdown",
   "metadata": {},
   "source": [
    "### 根據條件刪除多筆資料"
   ]
  },
  {
   "cell_type": "code",
   "execution_count": 100,
   "metadata": {},
   "outputs": [
    {
     "name": "stderr",
     "output_type": "stream",
     "text": [
      "/Users/davidchiu/.pyenv/versions/3.7.3/lib/python3.7/site-packages/ipykernel_launcher.py:2: DeprecationWarning: count is deprecated. Use estimated_document_count or count_documents instead. Please note that $where must be replaced by $expr, $near must be replaced by $geoWithin with $center, and $nearSphere must be replaced by $geoWithin with $centerSphere\n",
      "  \n"
     ]
    },
    {
     "data": {
      "text/plain": [
       "796"
      ]
     },
     "execution_count": 100,
     "metadata": {},
     "output_type": "execute_result"
    }
   ],
   "source": [
    "coll.delete_many({'sectionname': {'$regex' :'文山區'}})\n",
    "coll.count()"
   ]
  },
  {
   "attachments": {},
   "cell_type": "markdown",
   "metadata": {},
   "source": [
    "### 捨棄整個Collection 的資料"
   ]
  },
  {
   "cell_type": "code",
   "execution_count": 101,
   "metadata": {},
   "outputs": [
    {
     "name": "stderr",
     "output_type": "stream",
     "text": [
      "/Users/davidchiu/.pyenv/versions/3.7.3/lib/python3.7/site-packages/ipykernel_launcher.py:2: DeprecationWarning: count is deprecated. Use estimated_document_count or count_documents instead. Please note that $where must be replaced by $expr, $near must be replaced by $geoWithin with $center, and $nearSphere must be replaced by $geoWithin with $centerSphere\n",
      "  \n"
     ]
    },
    {
     "data": {
      "text/plain": [
       "0"
      ]
     },
     "execution_count": 101,
     "metadata": {},
     "output_type": "execute_result"
    }
   ],
   "source": [
    "coll.drop()\n",
    "coll.count()"
   ]
  }
 ],
 "metadata": {
  "kernelspec": {
   "display_name": "Python 3",
   "language": "python",
   "name": "python3"
  },
  "language_info": {
   "codemirror_mode": {
    "name": "ipython",
    "version": 3
   },
   "file_extension": ".py",
   "mimetype": "text/x-python",
   "name": "python",
   "nbconvert_exporter": "python",
   "pygments_lexer": "ipython3",
   "version": "3.7.3"
  }
 },
 "nbformat": 4,
 "nbformat_minor": 4
}
