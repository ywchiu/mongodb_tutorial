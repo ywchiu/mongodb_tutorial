{
 "cells": [
  {
   "cell_type": "markdown",
   "metadata": {},
   "source": [
    "## 安裝 Pymongo"
   ]
  },
  {
   "cell_type": "code",
   "execution_count": 2,
   "metadata": {},
   "outputs": [
    {
     "name": "stdout",
     "output_type": "stream",
     "text": [
      "Collecting pymongo\n",
      "  Downloading pymongo-3.11.0-cp37-cp37m-macosx_10_9_x86_64.whl (378 kB)\n",
      "\u001b[K     |████████████████████████████████| 378 kB 521 kB/s eta 0:00:01\n",
      "\u001b[?25hInstalling collected packages: pymongo\n",
      "Successfully installed pymongo-3.11.0\n"
     ]
    }
   ],
   "source": [
    "! pip install pymongo"
   ]
  },
  {
   "cell_type": "markdown",
   "metadata": {},
   "source": [
    "## MongoDB 基本操作"
   ]
  },
  {
   "cell_type": "markdown",
   "metadata": {},
   "source": [
    "### 測試 MongoDB 連線"
   ]
  },
  {
   "cell_type": "code",
   "execution_count": 143,
   "metadata": {},
   "outputs": [],
   "source": [
    "import pymongo\n",
    "try:\n",
    "    conn = pymongo.MongoClient()\n",
    "except pymongo.errors.ConnectionFailure as e:\n",
    "    print(\"Could not connect to MongoDB: %s\" % e)\n",
    "\n"
   ]
  },
  {
   "cell_type": "markdown",
   "metadata": {},
   "source": [
    "### 列出目前資料庫名稱"
   ]
  },
  {
   "cell_type": "code",
   "execution_count": 144,
   "metadata": {},
   "outputs": [
    {
     "name": "stderr",
     "output_type": "stream",
     "text": [
      "/Users/davidchiu/.pyenv/versions/3.7.3/lib/python3.7/site-packages/ipykernel_launcher.py:1: DeprecationWarning: database_names is deprecated. Use list_database_names instead.\n",
      "  \"\"\"Entry point for launching an IPython kernel.\n"
     ]
    },
    {
     "data": {
      "text/plain": [
       "['admin', 'config', 'local', 'rent591', 'twcom']"
      ]
     },
     "execution_count": 144,
     "metadata": {},
     "output_type": "execute_result"
    }
   ],
   "source": [
    "conn.database_names()"
   ]
  },
  {
   "cell_type": "markdown",
   "metadata": {},
   "source": [
    "### 建立Database"
   ]
  },
  {
   "cell_type": "code",
   "execution_count": 145,
   "metadata": {},
   "outputs": [
    {
     "name": "stdout",
     "output_type": "stream",
     "text": [
      "Database(MongoClient(host=['localhost:27017'], document_class=dict, tz_aware=False, connect=True), 'rent591')\n"
     ]
    }
   ],
   "source": [
    "db = conn['rent591']\n",
    "print(db)"
   ]
  },
  {
   "cell_type": "markdown",
   "metadata": {},
   "source": [
    "### 建立Collection\n"
   ]
  },
  {
   "cell_type": "code",
   "execution_count": 146,
   "metadata": {},
   "outputs": [],
   "source": [
    "basic = db['basic_profile']"
   ]
  },
  {
   "cell_type": "code",
   "execution_count": 147,
   "metadata": {},
   "outputs": [],
   "source": [
    "detail = db['detail_info']"
   ]
  },
  {
   "cell_type": "markdown",
   "metadata": {},
   "source": [
    "## 新增資料 (Insert)"
   ]
  },
  {
   "cell_type": "markdown",
   "metadata": {},
   "source": [
    "### 下載JSON\n",
    "- https://raw.githubusercontent.com/ywchiu/mongodb_tutorial/main/data/rent591.json"
   ]
  },
  {
   "cell_type": "code",
   "execution_count": 148,
   "metadata": {},
   "outputs": [],
   "source": [
    "import requests\n",
    "res = requests.get('https://raw.githubusercontent.com/ywchiu/mongodb_tutorial/main/data/rent591.json')\n",
    "with open('rent591.json', 'w') as f:\n",
    "    f.write(res.text)"
   ]
  },
  {
   "cell_type": "markdown",
   "metadata": {},
   "source": [
    "### 讀取JSON 資料"
   ]
  },
  {
   "cell_type": "code",
   "execution_count": 149,
   "metadata": {},
   "outputs": [],
   "source": [
    "import json\n",
    "jd = json.loads(open('rent591.json','r').read())"
   ]
  },
  {
   "cell_type": "code",
   "execution_count": 150,
   "metadata": {},
   "outputs": [
    {
     "name": "stdout",
     "output_type": "stream",
     "text": [
      "{'id': 9866527, 'user_id': 2991837, 'address': '大安路一段忠孝復興站樓上..', 'type': '1', 'post_id': 9866527, 'regionid': 1, 'sectionid': 5, 'streetid': 25614, 'room': 1, 'area': 11, 'price': '26,800', 'storeprice': 0, 'comment_total': 0, 'comment_unread': 0, 'comment_ltime': 0, 'hasimg': 1, 'kind': 1, 'shape': 2, 'houseage': 0, 'posttime': '14分鐘內', 'updatetime': 1602913536, 'refreshtime': 1602988322, 'checkstatus': 0, 'status': '', 'closed': 0, 'living': 'depart,advstore,market,night,park,school,hospital', 'condition': 'tv,icebox,cold,washer,hotwater,four,broadband,lift,naturalgas,landpost,cook,trabus,balcony_1,lease,bed,wardrobe,sofa,bookTable,chair,all_sex', 'isvip': 1, 'mvip': 1, 'is_combine': 1, 'cover': 'https://hp1.591.com.tw/house/active/2020/09/28/160126732136061501_210x158.crop.jpg', 'browsenum': 104, 'browsenum_all': 3288, 'floor2': 0, 'floor': 7, 'ltime': '2020-10-18 10:32:02', 'cases_id': '', 'social_house': 0, 'distance': 0, 'search_name': '', 'mainarea': None, 'balcony_area': None, 'groundarea': None, 'linkman': '龔先生', 'housetype': 1, 'street_name': '大安路一段', 'alley_name': '', 'lane_name': '', 'addr_number_name': '', 'kind_name_img': '整層住家', 'address_img': '忠孝復興站樓上雙面採光酒店式電梯政商社區', 'cases_name': '一品大廈社區', 'layout': '1房1廳1衛', 'layout_str': '<span class=\"layout\">1房1廳1衛</span>，</span>', 'allfloor': 8, 'floorInfo': '樓層：7/8', 'house_img': '185831038,185395784,185831042,185831039,185831041,185831037,185831036,185395888,185395648,185395761,185831040,', 'houseimg': None, 'cartplace': '', 'space_type_str': '', 'photo_alt': '台北租屋,大安租屋,整層住家出租,忠孝復興站樓上雙面採光酒店式電梯政商社區', 'addition4': 1, 'addition2': 0, 'addition3': 0, 'vipimg': '', 'vipstyle': 'isvip', 'vipBorder': 'vipStyle', 'new_list_comment_total': 0, 'comment_class': 'none', 'price_hide': 'price-hide', 'kind_name': '整層住家', 'photoNum': '11', 'filename': 'https://hp1.591.com.tw/house/active/2020/09/28/160126732136061501_210x158.crop.jpg', 'nick_name': '屋主 龔先生', 'new_img': '', 'regionname': '台北市', 'sectionname': '大安區', 'icon_name': '出租', 'icon_class': 'rent', 'fulladdress': '大安路一段忠孝復興站樓上雙面採光酒店式電梯政商社區', 'address_img_title': '忠孝復興站樓上雙面採光酒店式電梯政商社區', 'browsenum_name': '昨日瀏覽', 'unit': '元/月', 'houseid': 9866527, 'region_name': '台北市', 'section_name': '大安區', 'addInfo': '', 'onepxImg': ''}\n"
     ]
    }
   ],
   "source": [
    "print(jd[0])"
   ]
  },
  {
   "cell_type": "markdown",
   "metadata": {},
   "source": [
    "### 匯入JSON 資料"
   ]
  },
  {
   "cell_type": "code",
   "execution_count": 151,
   "metadata": {},
   "outputs": [
    {
     "data": {
      "text/plain": [
       "<pymongo.results.InsertManyResult at 0x11330f908>"
      ]
     },
     "execution_count": 151,
     "metadata": {},
     "output_type": "execute_result"
    }
   ],
   "source": [
    "basic.insert_many(jd)"
   ]
  },
  {
   "cell_type": "markdown",
   "metadata": {},
   "source": [
    "### 統計匯入資料筆數"
   ]
  },
  {
   "cell_type": "code",
   "execution_count": 152,
   "metadata": {},
   "outputs": [
    {
     "name": "stderr",
     "output_type": "stream",
     "text": [
      "/Users/davidchiu/.pyenv/versions/3.7.3/lib/python3.7/site-packages/ipykernel_launcher.py:1: DeprecationWarning: count is deprecated. Use estimated_document_count or count_documents instead. Please note that $where must be replaced by $expr, $near must be replaced by $geoWithin with $center, and $nearSphere must be replaced by $geoWithin with $centerSphere\n",
      "  \"\"\"Entry point for launching an IPython kernel.\n"
     ]
    },
    {
     "data": {
      "text/plain": [
       "1680"
      ]
     },
     "execution_count": 152,
     "metadata": {},
     "output_type": "execute_result"
    }
   ],
   "source": [
    "coll.count()"
   ]
  },
  {
   "cell_type": "markdown",
   "metadata": {},
   "source": [
    "### 下載物件資訊\n",
    "- https://raw.githubusercontent.com/ywchiu/mongodb_tutorial/main/data/house_detail.json"
   ]
  },
  {
   "cell_type": "code",
   "execution_count": 153,
   "metadata": {},
   "outputs": [],
   "source": [
    "import requests\n",
    "res = requests.get('https://raw.githubusercontent.com/ywchiu/mongodb_tutorial/main/data/house_detail.json')\n",
    "with open('house_detail.json', 'w') as f:\n",
    "    f.write(res.text)"
   ]
  },
  {
   "cell_type": "markdown",
   "metadata": {},
   "source": [
    "### 讀取JSON 資料 "
   ]
  },
  {
   "cell_type": "code",
   "execution_count": 154,
   "metadata": {},
   "outputs": [],
   "source": [
    "import json\n",
    "jd2 = json.loads(open('house_detail.json','r').read())"
   ]
  },
  {
   "cell_type": "code",
   "execution_count": 155,
   "metadata": {},
   "outputs": [],
   "source": [
    "#print(jd2[0])"
   ]
  },
  {
   "cell_type": "markdown",
   "metadata": {},
   "source": [
    "### 匯入JSON 資料"
   ]
  },
  {
   "cell_type": "code",
   "execution_count": 156,
   "metadata": {},
   "outputs": [
    {
     "data": {
      "text/plain": [
       "<pymongo.results.InsertManyResult at 0x118743ac8>"
      ]
     },
     "execution_count": 156,
     "metadata": {},
     "output_type": "execute_result"
    }
   ],
   "source": [
    "detail.insert_many(jd2)"
   ]
  },
  {
   "cell_type": "markdown",
   "metadata": {},
   "source": [
    "## 資料篩選 (Find)"
   ]
  },
  {
   "cell_type": "markdown",
   "metadata": {},
   "source": [
    "### 找出第一筆資料"
   ]
  },
  {
   "cell_type": "code",
   "execution_count": 157,
   "metadata": {},
   "outputs": [
    {
     "name": "stdout",
     "output_type": "stream",
     "text": [
      "{'_id': ObjectId('5f8bddd16eba2b752b302a34'), 'id': 9866527, 'user_id': 2991837, 'address': '大安路一段忠孝復興站樓上..', 'type': '1', 'post_id': 9866527, 'regionid': 1, 'sectionid': 5, 'streetid': 25614, 'room': 1, 'area': 11, 'price': '26,800', 'storeprice': 0, 'comment_total': 0, 'comment_unread': 0, 'comment_ltime': 0, 'hasimg': 1, 'kind': 1, 'shape': 2, 'houseage': 0, 'posttime': '14分鐘內', 'updatetime': 1602913536, 'refreshtime': 1602988322, 'checkstatus': 0, 'status': '', 'closed': 0, 'living': 'depart,advstore,market,night,park,school,hospital', 'condition': 'tv,icebox,cold,washer,hotwater,four,broadband,lift,naturalgas,landpost,cook,trabus,balcony_1,lease,bed,wardrobe,sofa,bookTable,chair,all_sex', 'isvip': 1, 'mvip': 1, 'is_combine': 1, 'cover': 'https://hp1.591.com.tw/house/active/2020/09/28/160126732136061501_210x158.crop.jpg', 'browsenum': 104, 'browsenum_all': 3288, 'floor2': 0, 'floor': 7, 'ltime': '2020-10-18 10:32:02', 'cases_id': '', 'social_house': 0, 'distance': 0, 'search_name': '', 'mainarea': None, 'balcony_area': None, 'groundarea': None, 'linkman': '龔先生', 'housetype': 1, 'street_name': '大安路一段', 'alley_name': '', 'lane_name': '', 'addr_number_name': '', 'kind_name_img': '整層住家', 'address_img': '忠孝復興站樓上雙面採光酒店式電梯政商社區', 'cases_name': '一品大廈社區', 'layout': '1房1廳1衛', 'layout_str': '<span class=\"layout\">1房1廳1衛</span>，</span>', 'allfloor': 8, 'floorInfo': '樓層：7/8', 'house_img': '185831038,185395784,185831042,185831039,185831041,185831037,185831036,185395888,185395648,185395761,185831040,', 'houseimg': None, 'cartplace': '', 'space_type_str': '', 'photo_alt': '台北租屋,大安租屋,整層住家出租,忠孝復興站樓上雙面採光酒店式電梯政商社區', 'addition4': 1, 'addition2': 0, 'addition3': 0, 'vipimg': '', 'vipstyle': 'isvip', 'vipBorder': 'vipStyle', 'new_list_comment_total': 0, 'comment_class': 'none', 'price_hide': 'price-hide', 'kind_name': '整層住家', 'photoNum': '11', 'filename': 'https://hp1.591.com.tw/house/active/2020/09/28/160126732136061501_210x158.crop.jpg', 'nick_name': '屋主 龔先生', 'new_img': '', 'regionname': '台北市', 'sectionname': '大安區', 'icon_name': '出租', 'icon_class': 'rent', 'fulladdress': '大安路一段忠孝復興站樓上雙面採光酒店式電梯政商社區', 'address_img_title': '忠孝復興站樓上雙面採光酒店式電梯政商社區', 'browsenum_name': '昨日瀏覽', 'unit': '元/月', 'houseid': 9866527, 'region_name': '台北市', 'section_name': '大安區', 'addInfo': '', 'onepxImg': ''}\n"
     ]
    }
   ],
   "source": [
    "print(basic.find_one())"
   ]
  },
  {
   "cell_type": "markdown",
   "metadata": {},
   "source": [
    "### 根據時間條件篩選"
   ]
  },
  {
   "cell_type": "code",
   "execution_count": 158,
   "metadata": {},
   "outputs": [
    {
     "data": {
      "text/plain": [
       "30"
      ]
     },
     "execution_count": 158,
     "metadata": {},
     "output_type": "execute_result"
    }
   ],
   "source": [
    "cur = basic.find({'ltime':{ '$lt' : '2020-10-18'}})\n",
    "\n",
    "len([doc for doc in cur])"
   ]
  },
  {
   "cell_type": "markdown",
   "metadata": {},
   "source": [
    "### 根據字串比對"
   ]
  },
  {
   "cell_type": "code",
   "execution_count": 159,
   "metadata": {},
   "outputs": [
    {
     "name": "stdout",
     "output_type": "stream",
     "text": [
      "{'_id': ObjectId('5f8bddd16eba2b752b302a90'), 'id': 9861404, 'user_id': 2937190, 'address': '仁愛路三段住商信義安和店..', 'type': '1', 'post_id': 9861404, 'regionid': 1, 'sectionid': 5, 'streetid': 25616, 'room': 3, 'area': 88.8, 'price': '400,000', 'storeprice': 0, 'comment_total': 0, 'comment_unread': 0, 'comment_ltime': 0, 'hasimg': 1, 'kind': 1, 'shape': 2, 'houseage': 0, 'posttime': '3小時內', 'updatetime': 1600759337, 'refreshtime': 1602979202, 'checkstatus': 1, 'status': '', 'closed': 0, 'living': '', 'condition': 'tv,icebox,cold,washer,hotwater,lift,naturalgas,cartplace,pet,cook,balcony_1,bed,wardrobe,sofa,bookTable,chair,all_sex', 'isvip': 1, 'mvip': 1, 'is_combine': 1, 'cover': 'https://hp2.591.com.tw/house/active/2020/09/22/160075825660868309_210x158.crop.jpg', 'browsenum': 50, 'browsenum_all': 1783, 'floor2': 0, 'floor': 13, 'ltime': '2020-10-18 08:02:04', 'cases_id': 5671, 'social_house': 0, 'distance': 0, 'search_name': '', 'mainarea': None, 'balcony_area': None, 'groundarea': None, 'linkman': '江先生', 'housetype': 3, 'street_name': '仁愛路三段', 'alley_name': '', 'lane_name': '', 'addr_number_name': '', 'kind_name_img': '整層住家', 'address_img': '住商信義安和店✅帝寶高樓美邸', 'cases_name': '仁愛帝寶', 'layout': '3房2廳4衛', 'layout_str': '<span class=\"layout\">3房2廳4衛</span>，</span>', 'allfloor': 28, 'floorInfo': '樓層：13/28', 'house_img': '185279132,185279123,185279119,185279118,185279139,185279161,185279168,185279174,185279177,185279180,185279170,185279179,185279175,185279178,185279149,', 'houseimg': None, 'cartplace': '', 'space_type_str': '', 'photo_alt': '台北租屋,大安租屋,整層住家出租,住商信義安和店✅帝寶高樓美邸', 'addition4': 1, 'addition2': 0, 'addition3': 0, 'vipimg': '', 'vipstyle': 'isvip', 'vipBorder': 'vipStyle', 'new_list_comment_total': 0, 'comment_class': 'none', 'price_hide': 'price-hide', 'kind_name': '整層住家', 'photoNum': '15', 'filename': 'https://hp2.591.com.tw/house/active/2020/09/22/160075825660868309_210x158.crop.jpg', 'nick_name': '仲介 江先生', 'new_img': '', 'regionname': '台北市', 'sectionname': '大安區', 'icon_name': '出租', 'icon_class': 'rent', 'fulladdress': '仁愛路三段住商信義安和店✅帝寶高樓美邸', 'address_img_title': '住商信義安和店✅帝寶高樓美邸', 'browsenum_name': '昨日瀏覽', 'unit': '元/月', 'houseid': 9861404, 'region_name': '台北市', 'section_name': '大安區', 'addInfo': '', 'onepxImg': ''}\n",
      "{'_id': ObjectId('5f8bddd16eba2b752b302c5b'), 'id': 9949056, 'user_id': 2621275, 'address': '仁愛路三段帝寶景觀豪宅', 'type': '1', 'post_id': 9949056, 'regionid': 1, 'sectionid': 5, 'streetid': 25616, 'room': 3, 'area': 176.2, 'price': '380,000', 'storeprice': 0, 'comment_total': 0, 'comment_unread': 0, 'comment_ltime': 0, 'hasimg': 1, 'kind': 1, 'shape': 2, 'houseage': 0, 'posttime': '3小時內', 'updatetime': 1602487781, 'refreshtime': 1602979202, 'checkstatus': 1, 'status': '', 'closed': 0, 'living': '', 'condition': 'tv,icebox,cold,washer,hotwater,four,broadband,lift,naturalgas,pet,cook,balcony_1,bed,wardrobe,sofa,bookTable,chair,all_sex', 'isvip': 1, 'mvip': 1, 'is_combine': 0, 'cover': 'https://hp2.591.com.tw/house/active/2020/10/12/160249073754714945_210x158.crop.jpg', 'browsenum': 42, 'browsenum_all': 335, 'floor2': 0, 'floor': 13, 'ltime': '2020-10-18 08:03:28', 'cases_id': 5671, 'social_house': 0, 'distance': 0, 'search_name': '', 'mainarea': None, 'balcony_area': None, 'groundarea': None, 'linkman': '黃小姐', 'housetype': 3, 'street_name': '仁愛路三段', 'alley_name': '', 'lane_name': '', 'addr_number_name': '', 'kind_name_img': '整層住家', 'address_img': '帝寶景觀豪宅', 'cases_name': '仁愛帝寶', 'layout': '3房2廳4衛', 'layout_str': '<span class=\"layout\">3房2廳4衛</span>，</span>', 'allfloor': 28, 'floorInfo': '樓層：13/28', 'house_img': '187266198,187342172,', 'houseimg': None, 'cartplace': '', 'space_type_str': '', 'photo_alt': '台北租屋,大安租屋,整層住家出租,帝寶景觀豪宅', 'addition4': 0, 'addition2': 0, 'addition3': 0, 'vipimg': '<img src=\"./images/index/userCenter/list_vip_v1.png\"  border=\"0\" align=\"absmiddle\" class=\"vipimg\" alt=\"VIP物件\" title=\"VIP物件\"/>', 'vipstyle': 'isvip', 'vipBorder': 'vipStyle', 'new_list_comment_total': 0, 'comment_class': 'none', 'price_hide': 'price-hide', 'kind_name': '整層住家', 'photoNum': '2', 'filename': 'https://hp2.591.com.tw/house/active/2020/10/12/160249073754714945_210x158.crop.jpg', 'nick_name': '仲介 黃小姐', 'new_img': '', 'regionname': '台北市', 'sectionname': '大安區', 'icon_name': '出租', 'icon_class': 'rent', 'fulladdress': '仁愛路三段帝寶景觀豪宅', 'address_img_title': '帝寶景觀豪宅', 'browsenum_name': '昨日瀏覽', 'unit': '元/月', 'houseid': 9949056, 'region_name': '台北市', 'section_name': '大安區', 'addInfo': '<img src=\"./images/index/userCenter/list_vip_v1.png\"  border=\"0\" align=\"absmiddle\" class=\"vipimg\" alt=\"VIP物件\" title=\"VIP物件\"/>', 'onepxImg': ''}\n",
      "{'_id': ObjectId('5f8c360b6eba2b752b303117'), 'id': 9861404, 'user_id': 2937190, 'address': '仁愛路三段住商信義安和店..', 'type': '1', 'post_id': 9861404, 'regionid': 1, 'sectionid': 5, 'streetid': 25616, 'room': 3, 'area': 88.8, 'price': '400,000', 'storeprice': 0, 'comment_total': 0, 'comment_unread': 0, 'comment_ltime': 0, 'hasimg': 1, 'kind': 1, 'shape': 2, 'houseage': 0, 'posttime': '3小時內', 'updatetime': 1600759337, 'refreshtime': 1602979202, 'checkstatus': 1, 'status': '', 'closed': 0, 'living': '', 'condition': 'tv,icebox,cold,washer,hotwater,lift,naturalgas,cartplace,pet,cook,balcony_1,bed,wardrobe,sofa,bookTable,chair,all_sex', 'isvip': 1, 'mvip': 1, 'is_combine': 1, 'cover': 'https://hp2.591.com.tw/house/active/2020/09/22/160075825660868309_210x158.crop.jpg', 'browsenum': 50, 'browsenum_all': 1783, 'floor2': 0, 'floor': 13, 'ltime': '2020-10-18 08:02:04', 'cases_id': 5671, 'social_house': 0, 'distance': 0, 'search_name': '', 'mainarea': None, 'balcony_area': None, 'groundarea': None, 'linkman': '江先生', 'housetype': 3, 'street_name': '仁愛路三段', 'alley_name': '', 'lane_name': '', 'addr_number_name': '', 'kind_name_img': '整層住家', 'address_img': '住商信義安和店✅帝寶高樓美邸', 'cases_name': '仁愛帝寶', 'layout': '3房2廳4衛', 'layout_str': '<span class=\"layout\">3房2廳4衛</span>，</span>', 'allfloor': 28, 'floorInfo': '樓層：13/28', 'house_img': '185279132,185279123,185279119,185279118,185279139,185279161,185279168,185279174,185279177,185279180,185279170,185279179,185279175,185279178,185279149,', 'houseimg': None, 'cartplace': '', 'space_type_str': '', 'photo_alt': '台北租屋,大安租屋,整層住家出租,住商信義安和店✅帝寶高樓美邸', 'addition4': 1, 'addition2': 0, 'addition3': 0, 'vipimg': '', 'vipstyle': 'isvip', 'vipBorder': 'vipStyle', 'new_list_comment_total': 0, 'comment_class': 'none', 'price_hide': 'price-hide', 'kind_name': '整層住家', 'photoNum': '15', 'filename': 'https://hp2.591.com.tw/house/active/2020/09/22/160075825660868309_210x158.crop.jpg', 'nick_name': '仲介 江先生', 'new_img': '', 'regionname': '台北市', 'sectionname': '大安區', 'icon_name': '出租', 'icon_class': 'rent', 'fulladdress': '仁愛路三段住商信義安和店✅帝寶高樓美邸', 'address_img_title': '住商信義安和店✅帝寶高樓美邸', 'browsenum_name': '昨日瀏覽', 'unit': '元/月', 'houseid': 9861404, 'region_name': '台北市', 'section_name': '大安區', 'addInfo': '', 'onepxImg': ''}\n",
      "{'_id': ObjectId('5f8c360b6eba2b752b3032e2'), 'id': 9949056, 'user_id': 2621275, 'address': '仁愛路三段帝寶景觀豪宅', 'type': '1', 'post_id': 9949056, 'regionid': 1, 'sectionid': 5, 'streetid': 25616, 'room': 3, 'area': 176.2, 'price': '380,000', 'storeprice': 0, 'comment_total': 0, 'comment_unread': 0, 'comment_ltime': 0, 'hasimg': 1, 'kind': 1, 'shape': 2, 'houseage': 0, 'posttime': '3小時內', 'updatetime': 1602487781, 'refreshtime': 1602979202, 'checkstatus': 1, 'status': '', 'closed': 0, 'living': '', 'condition': 'tv,icebox,cold,washer,hotwater,four,broadband,lift,naturalgas,pet,cook,balcony_1,bed,wardrobe,sofa,bookTable,chair,all_sex', 'isvip': 1, 'mvip': 1, 'is_combine': 0, 'cover': 'https://hp2.591.com.tw/house/active/2020/10/12/160249073754714945_210x158.crop.jpg', 'browsenum': 42, 'browsenum_all': 335, 'floor2': 0, 'floor': 13, 'ltime': '2020-10-18 08:03:28', 'cases_id': 5671, 'social_house': 0, 'distance': 0, 'search_name': '', 'mainarea': None, 'balcony_area': None, 'groundarea': None, 'linkman': '黃小姐', 'housetype': 3, 'street_name': '仁愛路三段', 'alley_name': '', 'lane_name': '', 'addr_number_name': '', 'kind_name_img': '整層住家', 'address_img': '帝寶景觀豪宅', 'cases_name': '仁愛帝寶', 'layout': '3房2廳4衛', 'layout_str': '<span class=\"layout\">3房2廳4衛</span>，</span>', 'allfloor': 28, 'floorInfo': '樓層：13/28', 'house_img': '187266198,187342172,', 'houseimg': None, 'cartplace': '', 'space_type_str': '', 'photo_alt': '台北租屋,大安租屋,整層住家出租,帝寶景觀豪宅', 'addition4': 0, 'addition2': 0, 'addition3': 0, 'vipimg': '<img src=\"./images/index/userCenter/list_vip_v1.png\"  border=\"0\" align=\"absmiddle\" class=\"vipimg\" alt=\"VIP物件\" title=\"VIP物件\"/>', 'vipstyle': 'isvip', 'vipBorder': 'vipStyle', 'new_list_comment_total': 0, 'comment_class': 'none', 'price_hide': 'price-hide', 'kind_name': '整層住家', 'photoNum': '2', 'filename': 'https://hp2.591.com.tw/house/active/2020/10/12/160249073754714945_210x158.crop.jpg', 'nick_name': '仲介 黃小姐', 'new_img': '', 'regionname': '台北市', 'sectionname': '大安區', 'icon_name': '出租', 'icon_class': 'rent', 'fulladdress': '仁愛路三段帝寶景觀豪宅', 'address_img_title': '帝寶景觀豪宅', 'browsenum_name': '昨日瀏覽', 'unit': '元/月', 'houseid': 9949056, 'region_name': '台北市', 'section_name': '大安區', 'addInfo': '<img src=\"./images/index/userCenter/list_vip_v1.png\"  border=\"0\" align=\"absmiddle\" class=\"vipimg\" alt=\"VIP物件\" title=\"VIP物件\"/>', 'onepxImg': ''}\n"
     ]
    }
   ],
   "source": [
    "cur = basic.find({'fulladdress': {'$regex' :'帝寶'}})\n",
    "for doc in cur:\n",
    "    print(doc)"
   ]
  },
  {
   "attachments": {},
   "cell_type": "markdown",
   "metadata": {},
   "source": [
    "### 排序及限制回傳筆數"
   ]
  },
  {
   "cell_type": "code",
   "execution_count": 160,
   "metadata": {},
   "outputs": [
    {
     "name": "stdout",
     "output_type": "stream",
     "text": [
      "{'_id': ObjectId('5f8bddd16eba2b752b302a90'), 'id': 9861404, 'user_id': 2937190, 'address': '仁愛路三段住商信義安和店..', 'type': '1', 'post_id': 9861404, 'regionid': 1, 'sectionid': 5, 'streetid': 25616, 'room': 3, 'area': 88.8, 'price': '400,000', 'storeprice': 0, 'comment_total': 0, 'comment_unread': 0, 'comment_ltime': 0, 'hasimg': 1, 'kind': 1, 'shape': 2, 'houseage': 0, 'posttime': '3小時內', 'updatetime': 1600759337, 'refreshtime': 1602979202, 'checkstatus': 1, 'status': '', 'closed': 0, 'living': '', 'condition': 'tv,icebox,cold,washer,hotwater,lift,naturalgas,cartplace,pet,cook,balcony_1,bed,wardrobe,sofa,bookTable,chair,all_sex', 'isvip': 1, 'mvip': 1, 'is_combine': 1, 'cover': 'https://hp2.591.com.tw/house/active/2020/09/22/160075825660868309_210x158.crop.jpg', 'browsenum': 50, 'browsenum_all': 1783, 'floor2': 0, 'floor': 13, 'ltime': '2020-10-18 08:02:04', 'cases_id': 5671, 'social_house': 0, 'distance': 0, 'search_name': '', 'mainarea': None, 'balcony_area': None, 'groundarea': None, 'linkman': '江先生', 'housetype': 3, 'street_name': '仁愛路三段', 'alley_name': '', 'lane_name': '', 'addr_number_name': '', 'kind_name_img': '整層住家', 'address_img': '住商信義安和店✅帝寶高樓美邸', 'cases_name': '仁愛帝寶', 'layout': '3房2廳4衛', 'layout_str': '<span class=\"layout\">3房2廳4衛</span>，</span>', 'allfloor': 28, 'floorInfo': '樓層：13/28', 'house_img': '185279132,185279123,185279119,185279118,185279139,185279161,185279168,185279174,185279177,185279180,185279170,185279179,185279175,185279178,185279149,', 'houseimg': None, 'cartplace': '', 'space_type_str': '', 'photo_alt': '台北租屋,大安租屋,整層住家出租,住商信義安和店✅帝寶高樓美邸', 'addition4': 1, 'addition2': 0, 'addition3': 0, 'vipimg': '', 'vipstyle': 'isvip', 'vipBorder': 'vipStyle', 'new_list_comment_total': 0, 'comment_class': 'none', 'price_hide': 'price-hide', 'kind_name': '整層住家', 'photoNum': '15', 'filename': 'https://hp2.591.com.tw/house/active/2020/09/22/160075825660868309_210x158.crop.jpg', 'nick_name': '仲介 江先生', 'new_img': '', 'regionname': '台北市', 'sectionname': '大安區', 'icon_name': '出租', 'icon_class': 'rent', 'fulladdress': '仁愛路三段住商信義安和店✅帝寶高樓美邸', 'address_img_title': '住商信義安和店✅帝寶高樓美邸', 'browsenum_name': '昨日瀏覽', 'unit': '元/月', 'houseid': 9861404, 'region_name': '台北市', 'section_name': '大安區', 'addInfo': '', 'onepxImg': ''}\n"
     ]
    }
   ],
   "source": [
    "# 預設為pymongo.ASCENDING - 由小排到大\n",
    "\n",
    "cur = basic.find({'fulladdress': {'$regex' :'帝寶'}})\\\n",
    "    .sort('ltime').limit(1)\n",
    "\n",
    "for doc in cur:\n",
    "    print(doc)"
   ]
  },
  {
   "cell_type": "code",
   "execution_count": 161,
   "metadata": {},
   "outputs": [
    {
     "name": "stdout",
     "output_type": "stream",
     "text": [
      "{'_id': ObjectId('5f8bddd16eba2b752b302c5b'), 'id': 9949056, 'user_id': 2621275, 'address': '仁愛路三段帝寶景觀豪宅', 'type': '1', 'post_id': 9949056, 'regionid': 1, 'sectionid': 5, 'streetid': 25616, 'room': 3, 'area': 176.2, 'price': '380,000', 'storeprice': 0, 'comment_total': 0, 'comment_unread': 0, 'comment_ltime': 0, 'hasimg': 1, 'kind': 1, 'shape': 2, 'houseage': 0, 'posttime': '3小時內', 'updatetime': 1602487781, 'refreshtime': 1602979202, 'checkstatus': 1, 'status': '', 'closed': 0, 'living': '', 'condition': 'tv,icebox,cold,washer,hotwater,four,broadband,lift,naturalgas,pet,cook,balcony_1,bed,wardrobe,sofa,bookTable,chair,all_sex', 'isvip': 1, 'mvip': 1, 'is_combine': 0, 'cover': 'https://hp2.591.com.tw/house/active/2020/10/12/160249073754714945_210x158.crop.jpg', 'browsenum': 42, 'browsenum_all': 335, 'floor2': 0, 'floor': 13, 'ltime': '2020-10-18 08:03:28', 'cases_id': 5671, 'social_house': 0, 'distance': 0, 'search_name': '', 'mainarea': None, 'balcony_area': None, 'groundarea': None, 'linkman': '黃小姐', 'housetype': 3, 'street_name': '仁愛路三段', 'alley_name': '', 'lane_name': '', 'addr_number_name': '', 'kind_name_img': '整層住家', 'address_img': '帝寶景觀豪宅', 'cases_name': '仁愛帝寶', 'layout': '3房2廳4衛', 'layout_str': '<span class=\"layout\">3房2廳4衛</span>，</span>', 'allfloor': 28, 'floorInfo': '樓層：13/28', 'house_img': '187266198,187342172,', 'houseimg': None, 'cartplace': '', 'space_type_str': '', 'photo_alt': '台北租屋,大安租屋,整層住家出租,帝寶景觀豪宅', 'addition4': 0, 'addition2': 0, 'addition3': 0, 'vipimg': '<img src=\"./images/index/userCenter/list_vip_v1.png\"  border=\"0\" align=\"absmiddle\" class=\"vipimg\" alt=\"VIP物件\" title=\"VIP物件\"/>', 'vipstyle': 'isvip', 'vipBorder': 'vipStyle', 'new_list_comment_total': 0, 'comment_class': 'none', 'price_hide': 'price-hide', 'kind_name': '整層住家', 'photoNum': '2', 'filename': 'https://hp2.591.com.tw/house/active/2020/10/12/160249073754714945_210x158.crop.jpg', 'nick_name': '仲介 黃小姐', 'new_img': '', 'regionname': '台北市', 'sectionname': '大安區', 'icon_name': '出租', 'icon_class': 'rent', 'fulladdress': '仁愛路三段帝寶景觀豪宅', 'address_img_title': '帝寶景觀豪宅', 'browsenum_name': '昨日瀏覽', 'unit': '元/月', 'houseid': 9949056, 'region_name': '台北市', 'section_name': '大安區', 'addInfo': '<img src=\"./images/index/userCenter/list_vip_v1.png\"  border=\"0\" align=\"absmiddle\" class=\"vipimg\" alt=\"VIP物件\" title=\"VIP物件\"/>', 'onepxImg': ''}\n"
     ]
    }
   ],
   "source": [
    "# 設定為由大排到小\n",
    "cur = basic.find({'fulladdress': {'$regex' :'帝寶'}})\\\n",
    "    .sort('ltime',pymongo.DESCENDING).limit(1)\n",
    "\n",
    "for doc in cur:\n",
    "    print(doc)"
   ]
  },
  {
   "cell_type": "markdown",
   "metadata": {},
   "source": [
    "## 修改資料 (Update)"
   ]
  },
  {
   "cell_type": "markdown",
   "metadata": {},
   "source": [
    "### 修改單筆資料"
   ]
  },
  {
   "cell_type": "code",
   "execution_count": 162,
   "metadata": {},
   "outputs": [],
   "source": [
    "result = basic.update_one(\n",
    "    {\"id\": 9949056},\n",
    "    {\n",
    "        \"$set\": {\n",
    "            \"searchdate\": \"2020-10-18\"\n",
    "        }\n",
    "    }\n",
    ")\n"
   ]
  },
  {
   "cell_type": "code",
   "execution_count": 167,
   "metadata": {},
   "outputs": [
    {
     "name": "stdout",
     "output_type": "stream",
     "text": [
      "2020-10-18\n",
      "2020-10-18\n"
     ]
    }
   ],
   "source": [
    "cur = basic.find({\"id\": 9949056})\n",
    "for doc in cur:\n",
    "    print(doc.get('searchdate'))"
   ]
  },
  {
   "cell_type": "markdown",
   "metadata": {},
   "source": [
    "### 修改多筆資料"
   ]
  },
  {
   "cell_type": "code",
   "execution_count": 168,
   "metadata": {},
   "outputs": [
    {
     "name": "stderr",
     "output_type": "stream",
     "text": [
      "/Users/davidchiu/.pyenv/versions/3.7.3/lib/python3.7/site-packages/ipykernel_launcher.py:3: DeprecationWarning: update is deprecated. Use replace_one, update_one or update_many instead.\n",
      "  This is separate from the ipykernel package so we can avoid doing imports until\n"
     ]
    }
   ],
   "source": [
    "# 增添搜尋日期\n",
    "for obj in basic.find():\n",
    "    basic.update({'_id':obj['_id']},{'$set':{'searchdate' : \"2020-10-18\"}})"
   ]
  },
  {
   "cell_type": "code",
   "execution_count": 169,
   "metadata": {},
   "outputs": [
    {
     "name": "stderr",
     "output_type": "stream",
     "text": [
      "/Users/davidchiu/.pyenv/versions/3.7.3/lib/python3.7/site-packages/ipykernel_launcher.py:3: DeprecationWarning: update is deprecated. Use replace_one, update_one or update_many instead.\n",
      "  This is separate from the ipykernel package so we can avoid doing imports until\n"
     ]
    }
   ],
   "source": [
    "# 將金額全部改為整數\n",
    "for obj in basic.find():\n",
    "    basic.update({'_id':obj['_id']},{'$set':{'price' : int(obj['price'].replace(',',''))}})"
   ]
  },
  {
   "cell_type": "code",
   "execution_count": 170,
   "metadata": {},
   "outputs": [
    {
     "data": {
      "text/plain": [
       "380000"
      ]
     },
     "execution_count": 170,
     "metadata": {},
     "output_type": "execute_result"
    }
   ],
   "source": [
    "cur = basic.find_one({\"id\": 9949056})\n",
    "cur.get('price')"
   ]
  },
  {
   "cell_type": "markdown",
   "metadata": {},
   "source": [
    "### 根據金額排序物件"
   ]
  },
  {
   "cell_type": "code",
   "execution_count": 171,
   "metadata": {},
   "outputs": [
    {
     "name": "stdout",
     "output_type": "stream",
     "text": [
      "9861404 仁愛路三段住商信義安和店.. 400000\n",
      "9861404 仁愛路三段住商信義安和店.. 400000\n",
      "9949056 仁愛路三段帝寶景觀豪宅 380000\n"
     ]
    }
   ],
   "source": [
    "# 預設為pymongo.ASCENDING - 由小排到大\n",
    "\n",
    "cur = basic.find().sort('price', pymongo.DESCENDING).limit(3)\n",
    "\n",
    "for doc in cur:\n",
    "    print(doc.get('id'), doc.get('address'), doc.get('price'))"
   ]
  },
  {
   "cell_type": "markdown",
   "metadata": {},
   "source": [
    "## 統計資料 (Aggregate)"
   ]
  },
  {
   "cell_type": "markdown",
   "metadata": {},
   "source": [
    "### 計算區域數量"
   ]
  },
  {
   "cell_type": "code",
   "execution_count": 172,
   "metadata": {},
   "outputs": [
    {
     "data": {
      "text/plain": [
       "[{'_id': '萬華區', 'count': 58},\n",
       " {'_id': '南港區', 'count': 94},\n",
       " {'_id': '松山區', 'count': 106},\n",
       " {'_id': '北投區', 'count': 58},\n",
       " {'_id': '大安區', 'count': 240},\n",
       " {'_id': '士林區', 'count': 140},\n",
       " {'_id': '大同區', 'count': 102},\n",
       " {'_id': '文山區', 'count': 88},\n",
       " {'_id': '信義區', 'count': 188},\n",
       " {'_id': '中正區', 'count': 142},\n",
       " {'_id': '內湖區', 'count': 182},\n",
       " {'_id': '中山區', 'count': 282}]"
      ]
     },
     "execution_count": 172,
     "metadata": {},
     "output_type": "execute_result"
    }
   ],
   "source": [
    "pipeline = [\n",
    "     {\"$unwind\": \"$section_name\"},\n",
    "     {\"$group\": {\"_id\": \"$section_name\", \"count\": {\"$sum\": 1}}}\n",
    "]\n",
    "\n",
    "list(basic.aggregate(pipeline))"
   ]
  },
  {
   "cell_type": "markdown",
   "metadata": {},
   "source": [
    "### 計算區域價格加總並排序"
   ]
  },
  {
   "cell_type": "code",
   "execution_count": 173,
   "metadata": {},
   "outputs": [
    {
     "data": {
      "text/plain": [
       "[{'_id': '大安區', 'sum': 15488404},\n",
       " {'_id': '中山區', 'sum': 12244808},\n",
       " {'_id': '內湖區', 'sum': 10778772},\n",
       " {'_id': '士林區', 'sum': 9968776},\n",
       " {'_id': '信義區', 'sum': 9762816},\n",
       " {'_id': '中正區', 'sum': 6204990},\n",
       " {'_id': '松山區', 'sum': 5916810},\n",
       " {'_id': '南港區', 'sum': 5086596},\n",
       " {'_id': '大同區', 'sum': 4184600},\n",
       " {'_id': '文山區', 'sum': 2636600},\n",
       " {'_id': '北投區', 'sum': 2119200},\n",
       " {'_id': '萬華區', 'sum': 1981596}]"
      ]
     },
     "execution_count": 173,
     "metadata": {},
     "output_type": "execute_result"
    }
   ],
   "source": [
    "\n",
    "from bson.son import SON\n",
    "pipeline = [\n",
    "     {\"$unwind\": \"$section_name\"},\n",
    "     {\"$group\": {\"_id\": \"$section_name\", \"sum\": {\"$sum\": \"$price\"}}},\n",
    "     {\"$sort\": SON([(\"sum\", -1)])}\n",
    "]\n",
    "\n",
    "list(basic.aggregate(pipeline))"
   ]
  },
  {
   "cell_type": "markdown",
   "metadata": {},
   "source": [
    "### 計算區域平均價格並排序"
   ]
  },
  {
   "cell_type": "code",
   "execution_count": 174,
   "metadata": {},
   "outputs": [
    {
     "data": {
      "text/plain": [
       "[{'_id': '士林區', 'mean': 71205.54285714286},\n",
       " {'_id': '大安區', 'mean': 64535.01666666667},\n",
       " {'_id': '內湖區', 'mean': 59224.02197802198},\n",
       " {'_id': '松山區', 'mean': 55818.96226415094},\n",
       " {'_id': '南港區', 'mean': 54112.72340425532},\n",
       " {'_id': '信義區', 'mean': 51929.87234042553},\n",
       " {'_id': '中正區', 'mean': 43697.112676056335},\n",
       " {'_id': '中山區', 'mean': 43421.304964539006},\n",
       " {'_id': '大同區', 'mean': 41025.490196078434},\n",
       " {'_id': '北投區', 'mean': 36537.93103448276},\n",
       " {'_id': '萬華區', 'mean': 34165.44827586207},\n",
       " {'_id': '文山區', 'mean': 29961.363636363636}]"
      ]
     },
     "execution_count": 174,
     "metadata": {},
     "output_type": "execute_result"
    }
   ],
   "source": [
    "from bson.son import SON\n",
    "pipeline = [\n",
    "     {\"$unwind\": \"$section_name\"},\n",
    "     {\"$group\": {\"_id\": \"$section_name\", \"mean\": {\"$avg\": \"$price\"}}},\n",
    "     {\"$sort\": SON([(\"mean\", -1)])}\n",
    "]\n",
    "\n",
    "list(basic.aggregate(pipeline))"
   ]
  },
  {
   "cell_type": "markdown",
   "metadata": {},
   "source": [
    "### 根據多個欄位統計"
   ]
  },
  {
   "cell_type": "code",
   "execution_count": 175,
   "metadata": {},
   "outputs": [
    {
     "data": {
      "text/plain": [
       "[{'_id': {'region': '台北市', 'section': '士林區'}, 'mean': 71205.54285714286},\n",
       " {'_id': {'region': '台北市', 'section': '大安區'}, 'mean': 64535.01666666667},\n",
       " {'_id': {'region': '台北市', 'section': '內湖區'}, 'mean': 59224.02197802198},\n",
       " {'_id': {'region': '台北市', 'section': '松山區'}, 'mean': 55818.96226415094},\n",
       " {'_id': {'region': '台北市', 'section': '南港區'}, 'mean': 54112.72340425532},\n",
       " {'_id': {'region': '台北市', 'section': '信義區'}, 'mean': 51929.87234042553},\n",
       " {'_id': {'region': '台北市', 'section': '中正區'}, 'mean': 43697.112676056335},\n",
       " {'_id': {'region': '台北市', 'section': '中山區'}, 'mean': 43421.304964539006},\n",
       " {'_id': {'region': '台北市', 'section': '大同區'}, 'mean': 41025.490196078434},\n",
       " {'_id': {'region': '台北市', 'section': '北投區'}, 'mean': 36537.93103448276},\n",
       " {'_id': {'region': '台北市', 'section': '萬華區'}, 'mean': 34165.44827586207},\n",
       " {'_id': {'region': '台北市', 'section': '文山區'}, 'mean': 29961.363636363636}]"
      ]
     },
     "execution_count": 175,
     "metadata": {},
     "output_type": "execute_result"
    }
   ],
   "source": [
    "from bson.son import SON\n",
    "pipeline = [\n",
    "     {\"$unwind\": \"$regionname\"},\n",
    "     {\"$unwind\": \"$sectionname\"},\n",
    "     {\"$group\": {\"_id\": { 'region'  : '$regionname',\n",
    "                          'section' : '$sectionname'\n",
    "                        }, \"mean\": {\"$avg\": \"$price\"}}},\n",
    "     {\"$sort\": SON([(\"mean\", -1)])}\n",
    "]\n",
    "\n",
    "list(basic.aggregate(pipeline))"
   ]
  },
  {
   "cell_type": "markdown",
   "metadata": {},
   "source": [
    "### 根據多個欄位產生多項統計"
   ]
  },
  {
   "cell_type": "code",
   "execution_count": 176,
   "metadata": {},
   "outputs": [
    {
     "data": {
      "text/plain": [
       "[{'_id': {'region': '台北市', 'section': '士林區'},\n",
       "  'mean': 71205.54285714286,\n",
       "  'cnt': 140},\n",
       " {'_id': {'region': '台北市', 'section': '大安區'},\n",
       "  'mean': 64535.01666666667,\n",
       "  'cnt': 240},\n",
       " {'_id': {'region': '台北市', 'section': '內湖區'},\n",
       "  'mean': 59224.02197802198,\n",
       "  'cnt': 182},\n",
       " {'_id': {'region': '台北市', 'section': '松山區'},\n",
       "  'mean': 55818.96226415094,\n",
       "  'cnt': 106},\n",
       " {'_id': {'region': '台北市', 'section': '南港區'},\n",
       "  'mean': 54112.72340425532,\n",
       "  'cnt': 94},\n",
       " {'_id': {'region': '台北市', 'section': '信義區'},\n",
       "  'mean': 51929.87234042553,\n",
       "  'cnt': 188},\n",
       " {'_id': {'region': '台北市', 'section': '中正區'},\n",
       "  'mean': 43697.112676056335,\n",
       "  'cnt': 142},\n",
       " {'_id': {'region': '台北市', 'section': '中山區'},\n",
       "  'mean': 43421.304964539006,\n",
       "  'cnt': 282},\n",
       " {'_id': {'region': '台北市', 'section': '大同區'},\n",
       "  'mean': 41025.490196078434,\n",
       "  'cnt': 102},\n",
       " {'_id': {'region': '台北市', 'section': '北投區'},\n",
       "  'mean': 36537.93103448276,\n",
       "  'cnt': 58},\n",
       " {'_id': {'region': '台北市', 'section': '萬華區'},\n",
       "  'mean': 34165.44827586207,\n",
       "  'cnt': 58},\n",
       " {'_id': {'region': '台北市', 'section': '文山區'},\n",
       "  'mean': 29961.363636363636,\n",
       "  'cnt': 88}]"
      ]
     },
     "execution_count": 176,
     "metadata": {},
     "output_type": "execute_result"
    }
   ],
   "source": [
    "from bson.son import SON\n",
    "pipeline = [\n",
    "     {\"$unwind\": \"$regionname\"},\n",
    "     {\"$unwind\": \"$sectionname\"},\n",
    "     {\"$group\": {\"_id\": { 'region'  : '$regionname',\n",
    "                          'section' : '$sectionname'\n",
    "                        }, \"mean\": {\"$avg\": \"$price\"}, \"cnt\": {\"$sum\":1}}},\n",
    "     {\"$sort\": SON([(\"mean\", -1)])}\n",
    "]\n",
    "\n",
    "list(basic.aggregate(pipeline))"
   ]
  },
  {
   "cell_type": "markdown",
   "metadata": {},
   "source": [
    "## 合併表格 (join)"
   ]
  },
  {
   "cell_type": "code",
   "execution_count": 178,
   "metadata": {},
   "outputs": [
    {
     "name": "stdout",
     "output_type": "stream",
     "text": [
      "{'_id': ObjectId('5f8bddd16eba2b752b302a34'), 'id': 9866527, 'user_id': 2991837, 'address': '大安路一段忠孝復興站樓上..', 'type': '1', 'post_id': 9866527, 'regionid': 1, 'sectionid': 5, 'streetid': 25614, 'room': 1, 'area': 11, 'price': 26800, 'storeprice': 0, 'comment_total': 0, 'comment_unread': 0, 'comment_ltime': 0, 'hasimg': 1, 'kind': 1, 'shape': 2, 'houseage': 0, 'posttime': '14分鐘內', 'updatetime': 1602913536, 'refreshtime': 1602988322, 'checkstatus': 0, 'status': '', 'closed': 0, 'living': 'depart,advstore,market,night,park,school,hospital', 'condition': 'tv,icebox,cold,washer,hotwater,four,broadband,lift,naturalgas,landpost,cook,trabus,balcony_1,lease,bed,wardrobe,sofa,bookTable,chair,all_sex', 'isvip': 1, 'mvip': 1, 'is_combine': 1, 'cover': 'https://hp1.591.com.tw/house/active/2020/09/28/160126732136061501_210x158.crop.jpg', 'browsenum': 104, 'browsenum_all': 3288, 'floor2': 0, 'floor': 7, 'ltime': '2020-10-18 10:32:02', 'cases_id': '', 'social_house': 0, 'distance': 0, 'search_name': '', 'mainarea': None, 'balcony_area': None, 'groundarea': None, 'linkman': '龔先生', 'housetype': 1, 'street_name': '大安路一段', 'alley_name': '', 'lane_name': '', 'addr_number_name': '', 'kind_name_img': '整層住家', 'address_img': '忠孝復興站樓上雙面採光酒店式電梯政商社區', 'cases_name': '一品大廈社區', 'layout': '1房1廳1衛', 'layout_str': '<span class=\"layout\">1房1廳1衛</span>，</span>', 'allfloor': 8, 'floorInfo': '樓層：7/8', 'house_img': '185831038,185395784,185831042,185831039,185831041,185831037,185831036,185395888,185395648,185395761,185831040,', 'houseimg': None, 'cartplace': '', 'space_type_str': '', 'photo_alt': '台北租屋,大安租屋,整層住家出租,忠孝復興站樓上雙面採光酒店式電梯政商社區', 'addition4': 1, 'addition2': 0, 'addition3': 0, 'vipimg': '', 'vipstyle': 'isvip', 'vipBorder': 'vipStyle', 'new_list_comment_total': 0, 'comment_class': 'none', 'price_hide': 'price-hide', 'kind_name': '整層住家', 'photoNum': '11', 'filename': 'https://hp1.591.com.tw/house/active/2020/09/28/160126732136061501_210x158.crop.jpg', 'nick_name': '屋主 龔先生', 'new_img': '', 'regionname': '台北市', 'sectionname': '大安區', 'icon_name': '出租', 'icon_class': 'rent', 'fulladdress': '大安路一段忠孝復興站樓上雙面採光酒店式電梯政商社區', 'address_img_title': '忠孝復興站樓上雙面採光酒店式電梯政商社區', 'browsenum_name': '昨日瀏覽', 'unit': '元/月', 'houseid': 9866527, 'region_name': '台北市', 'section_name': '大安區', 'addInfo': '', 'onepxImg': '', 'searchdate': '2020-10-18'}\n"
     ]
    }
   ],
   "source": [
    "print(basic.find_one())"
   ]
  },
  {
   "cell_type": "code",
   "execution_count": 179,
   "metadata": {},
   "outputs": [
    {
     "name": "stdout",
     "output_type": "stream",
     "text": [
      "{'_id': ObjectId('5f8bde6e6eba2b752b302d7c'), 'contain': '(含網路、瓦斯費)', 'layout2': '1房1廳1衛', 'layout': '1房1廳1衛1陽臺', 'listLayout': '1房1廳', 'floor': '7F/8F', 'shape': '電梯大樓', 'parking': '無', 'community': '', 'cases_id': '0', 'managefee': '800元/月', 'minperiod': '三個月', 'fixture': '洗衣機,冰箱,電視,冷氣,熱水器,網路,第四台,天然瓦斯', 'hometools': '床,衣櫃,沙發,桌子,椅子', 'traffic': '近忠孝復興公車站； 頂好市場公車站； 忠孝復興捷運站； 忠孝敦化捷運站； 台北火車站', 'living': '近便利商店；傳統市場；百貨公司；公園綠地；學校；醫療機構；夜市', 'title': '忠孝復興站樓上雙面採光酒店式電梯政商社區', 'price': '26,800元/月', 'price_value': '26800', 'deposit': '二個月', 'kind': '整層住家', 'area': '11坪', 'area_value': '11', 'region': '台北市', 'region_id': '1', 'section': '大安區', 'section_id': '5', 'street': '大安路一段', 'addr': '', 'linkman': '龔先生', 'identity': '屋主', 'mobile': '0905-290-569', 'telephone': '', 'email': 'sweatanny@yahoo.com.tw', 'posttime': '1600849987', 'purpose_midify': '0', 'mobile_header': '0905-290-569', 'parking_new': '無', 'is_hide_tel': '', 'tel_agreement': '', 'isrecmoney': '不收取服務費', 'warnmsg': '1', 'is_recmoney': '0', 'streetid': '25614', 'alley': '', 'lane': 'x', 'addr_number': 'x', 'hide_addr_detail': '1', 'edit_lane': '', 'edit_addr_number': '98', 'room': '1', 'hall': '1', 'toilet': '1', 'balcony': '1', 'is_balcony': '1', 'floor_in_floor': '0', 'spacematerial_str': '', 'spacematerial': '0', 'carttype': '2', 'shape_id': '2', 'kind_id': '1', 'housetype': '1', 'pet': '0', 'cook': '1', 'edit_mobile': '0905-290-569', 'edit_telephone': '', 'parking_shape': '電梯大樓', 'parking_kind': '無', 'manageprice': '800', 'lift': '1', 'area_unit': '1', 'modify_limit': '1', 'casesID': '1317176', 'casesname': '一品大廈社區', 'json_no_hometools': [], 'json_hometools': [{'name': '桌子', 'value': '1', 'status': '1'}, {'name': '椅子', 'value': '3', 'status': '1'}, {'name': '衣櫃', 'value': '4', 'status': '1'}, {'name': '床', 'value': '5', 'status': '1'}, {'name': '沙發', 'value': '7', 'status': '1'}], 'json_fixture': [{'name': '熱水器', 'value': '1', 'status': '1'}, {'name': '天然瓦斯', 'value': '2', 'status': '1'}, {'name': '電視', 'value': '4', 'status': '1'}, {'name': '冰箱', 'value': '5', 'status': '1'}, {'name': '冷氣', 'value': '6', 'status': '1'}, {'name': '洗衣機', 'value': '7', 'status': '1'}, {'name': '網路', 'value': '14', 'status': '1'}, {'name': '第四台', 'value': '15', 'status': '1'}, {'name': '養寵物', 'value': '', 'status': '0'}, {'name': '開伙', 'value': '', 'status': '1'}, {'name': '車位', 'value': '', 'status': '0'}], 'direction': '坐北朝南', 'directionID': '4', 'purpose': '未核實', 'build_area': '未核實', 'new_addr_number': '98號', 'new_floor': '7樓之8', 'allfloor': '8', 'build_area_str': '未核實', 'need_check': '1', 'decree_checked': '1', 'have_certificate': '2', 'deposit_type': '2', 'hide_old_deposit_type': '2', 'deposit_val': '0', 'lease_type': '3', 'lease_time': '0', 'lease_timetype': '', 'containID': '6,3', 'fixtureID': '7,5,4,6,1,14,15,2', 'hometoolsID': '5,4,7,1,3', 'minperiodID': '3', 'sex': '男女生皆可', 'sexID': '0', 'degree': '上班族,家庭', 'degreeID': '2,3', 'cometime_str': '隨時', 'cometime': '2020-09-24', 'parkingID': '0', 'livingID': '2,3,1,5,6,7,4', 'id': 'R9866527', 'type': 'rent', 'remark': '屋主自刊  零仲介費  一卡皮箱隨時即可入住  酒店式裝潢\\r\\n全新落成一年新 下樓就是捷運入口    過馬路就有機場直達車\\r\\nTiffany Blue 精品主題設計師品味套房\\r\\n一房一廳一浴一衛一廚一陽台  全套高規格家具家電\\r\\n龔先生: 0905290569 \\r\\n龔小姐0972720115（屋主）\\r\\nLine ID : 0931047432 (要用ID加)\\r\\n10月19日前起租優惠1800元算25000元 (新刊登首週特別優惠)\\r\\n一層兩戶  政商社區一戶難求  忠孝復興捷運站\\r\\n\\r\\nSOGO忠孝館/復興館/敦化館  黃金正三角中央\\r\\n三館步行各2分鐘\\r\\n絕版大庭院採光罩 / 獨立洗衣機\\r\\n全新全套大規格家電家俱\\r\\n\\r\\n\\r\\n大尺寸日本原裝SONY液晶電視\\r\\n\\r\\n全戶水泥牆插座 20 組  用電安全至上\\r\\n\\r\\n長租一年26800\\r\\n長租兩年25800\\r\\n短租三個月以上39800\\r\\n歡迎現場評估\\r\\n\\r\\n\\r\\n龔先生: 0905290569  \\r\\nLine ID : 0931047432 (要用ID加)', 'thumb': 'https://hp1.591.com.tw/house/active/2020/09/28/160126732136061501_190x150.jpg', 'photo': 'https://hp1.591.com.tw/house/active/2020/09/28/160126732136061501_420x310.crop.jpg|*|https://hp1.591.com.tw/house/active/2020/09/28/160126732076477109_420x310.crop.jpg|*|https://hp1.591.com.tw/house/active/2020/09/23/160084941073047107_420x310.crop.jpg|*|https://hp1.591.com.tw/house/active/2020/09/28/160126732073095007_420x310.crop.jpg|*|https://hp1.591.com.tw/house/active/2020/09/28/160126732083438600_420x310.crop.jpg|*|https://hp1.591.com.tw/house/active/2020/09/28/160126732066470701_420x310.crop.jpg|*|https://hp1.591.com.tw/house/active/2020/09/28/160126732068414404_420x310.crop.jpg|*|https://hp1.591.com.tw/house/active/2020/09/23/160084945848625000_420x310.crop.jpg|*|https://hp1.591.com.tw/house/active/2020/09/23/160084936242426903_420x310.crop.jpg|*|https://hp1.591.com.tw/house/active/2020/09/23/160084939101339007_420x310.crop.jpg|*|https://hp1.591.com.tw/house/active/2020/09/28/160126732068750706_420x310.crop.jpg|*|https://hp1.591.com.tw/house/map/b5bda04632360e469d9b7f121cd0db95.png', 'maxphoto': 'https://hp1.591.com.tw/house/active/2020/09/28/160126732136061501_600x600x2991837.scale.jpg|*|https://hp1.591.com.tw/house/active/2020/09/28/160126732076477109_600x600x2991837.scale.jpg|*|https://hp1.591.com.tw/house/active/2020/09/23/160084941073047107_600x600x2991837.scale.jpg|*|https://hp1.591.com.tw/house/active/2020/09/28/160126732073095007_600x600x2991837.scale.jpg|*|https://hp1.591.com.tw/house/active/2020/09/28/160126732083438600_600x600x2991837.scale.jpg|*|https://hp1.591.com.tw/house/active/2020/09/28/160126732066470701_600x600x2991837.scale.jpg|*|https://hp1.591.com.tw/house/active/2020/09/28/160126732068414404_600x600x2991837.scale.jpg|*|https://hp1.591.com.tw/house/active/2020/09/23/160084945848625000_600x600x2991837.scale.jpg|*|https://hp1.591.com.tw/house/active/2020/09/23/160084936242426903_600x600x2991837.scale.jpg|*|https://hp1.591.com.tw/house/active/2020/09/23/160084939101339007_600x600x2991837.scale.jpg|*|https://hp1.591.com.tw/house/active/2020/09/28/160126732068750706_600x600x2991837.scale.jpg|*|https://hp1.591.com.tw/house/map/c40f08738f49e95d97b31c0d97858bb0.png', 'photoalt': '|*||*||*||*||*||*||*||*||*||*||*|', 'photoinfo': [{'photoid': '185831042', 'photo': 'https://hp1.591.com.tw/house/active/2020/09/28/160126732136061501_420x310.crop.jpg', 'maxphoto': 'https://hp1.591.com.tw/house/active/2020/09/28/160126732136061501_600x600x2991837.scale.jpg', 'photoalt': '', 'is_full': '0', 'arround_url': ''}, {'photoid': '185831038', 'photo': 'https://hp1.591.com.tw/house/active/2020/09/28/160126732076477109_420x310.crop.jpg', 'maxphoto': 'https://hp1.591.com.tw/house/active/2020/09/28/160126732076477109_600x600x2991837.scale.jpg', 'photoalt': '', 'is_full': '0', 'arround_url': ''}, {'photoid': '185395784', 'photo': 'https://hp1.591.com.tw/house/active/2020/09/23/160084941073047107_420x310.crop.jpg', 'maxphoto': 'https://hp1.591.com.tw/house/active/2020/09/23/160084941073047107_600x600x2991837.scale.jpg', 'photoalt': '', 'is_full': '0', 'arround_url': ''}, {'photoid': '185831039', 'photo': 'https://hp1.591.com.tw/house/active/2020/09/28/160126732073095007_420x310.crop.jpg', 'maxphoto': 'https://hp1.591.com.tw/house/active/2020/09/28/160126732073095007_600x600x2991837.scale.jpg', 'photoalt': '', 'is_full': '0', 'arround_url': ''}, {'photoid': '185831041', 'photo': 'https://hp1.591.com.tw/house/active/2020/09/28/160126732083438600_420x310.crop.jpg', 'maxphoto': 'https://hp1.591.com.tw/house/active/2020/09/28/160126732083438600_600x600x2991837.scale.jpg', 'photoalt': '', 'is_full': '0', 'arround_url': ''}, {'photoid': '185831037', 'photo': 'https://hp1.591.com.tw/house/active/2020/09/28/160126732066470701_420x310.crop.jpg', 'maxphoto': 'https://hp1.591.com.tw/house/active/2020/09/28/160126732066470701_600x600x2991837.scale.jpg', 'photoalt': '', 'is_full': '0', 'arround_url': ''}, {'photoid': '185831036', 'photo': 'https://hp1.591.com.tw/house/active/2020/09/28/160126732068414404_420x310.crop.jpg', 'maxphoto': 'https://hp1.591.com.tw/house/active/2020/09/28/160126732068414404_600x600x2991837.scale.jpg', 'photoalt': '', 'is_full': '0', 'arround_url': ''}, {'photoid': '185395888', 'photo': 'https://hp1.591.com.tw/house/active/2020/09/23/160084945848625000_420x310.crop.jpg', 'maxphoto': 'https://hp1.591.com.tw/house/active/2020/09/23/160084945848625000_600x600x2991837.scale.jpg', 'photoalt': '', 'is_full': '0', 'arround_url': ''}, {'photoid': '185395648', 'photo': 'https://hp1.591.com.tw/house/active/2020/09/23/160084936242426903_420x310.crop.jpg', 'maxphoto': 'https://hp1.591.com.tw/house/active/2020/09/23/160084936242426903_600x600x2991837.scale.jpg', 'photoalt': '', 'is_full': '0', 'arround_url': ''}, {'photoid': '185395761', 'photo': 'https://hp1.591.com.tw/house/active/2020/09/23/160084939101339007_420x310.crop.jpg', 'maxphoto': 'https://hp1.591.com.tw/house/active/2020/09/23/160084939101339007_600x600x2991837.scale.jpg', 'photoalt': '', 'is_full': '0', 'arround_url': ''}, {'photoid': '185831040', 'photo': 'https://hp1.591.com.tw/house/active/2020/09/28/160126732068750706_420x310.crop.jpg', 'maxphoto': 'https://hp1.591.com.tw/house/active/2020/09/28/160126732068750706_600x600x2991837.scale.jpg', 'photoalt': '', 'is_full': '0', 'arround_url': ''}], 'move_house': '', 'money_evaluate': '', 'lat': '25.0398180', 'lng': '121.5451912', 'share1': '台北市大安區，整層住家出租，26,800元/月，詳情：', 'share2': 'https://www.591.com.tw/fc0t1?s=i', 'share3': '來自【591APP-租屋】', 'mortgage_rate': '0.31', 'mortgage_info': '首付約5360萬，月還款623,755元', 'plan_act_info': '', 'plan_act_url': '', 'info': [{'name': '押金', 'value': '二個月'}, {'name': '現狀', 'value': '整層住家'}, {'name': '坪數', 'value': '11坪'}, {'name': '格局', 'value': '1房1廳1衛1陽臺'}, {'name': '樓層', 'value': '7F/8F'}, {'name': '型態', 'value': '電梯大樓'}, {'name': '房屋朝向', 'value': '坐北朝南'}, {'name': '管理費用', 'value': '800元/月'}, {'name': '最短租期', 'value': '三個月'}, {'name': '身份要求', 'value': '上班族,家庭'}, {'name': '可遷日期', 'value': '隨時'}, {'name': '車位', 'value': '無'}, {'name': '產權登記', 'value': '已辦'}, {'name': '建物面積', 'value': '未核實'}], 'showAd': '', 'wechat_id': '2991837', 'head_img': '', 'im_uid': '2991837', 'im_name': '龔先生', 'econ_name': '', 'line': 'https://line.me/ti/p/OS-8R7HBYQ', 'edit_status': '0', 'old_kind': '0', 'device': '', 'is_business': '', 'appVersionCode': '', 'saletype': '', 'no_statis': '', 'good_house_tags': []}\n"
     ]
    }
   ],
   "source": [
    "print(detail.find_one())"
   ]
  },
  {
   "cell_type": "code",
   "execution_count": null,
   "metadata": {},
   "outputs": [],
   "source": [
    "basic.aggregate([\n",
    "\n",
    "    // Join with user_info table\n",
    "    {\n",
    "        $lookup:{\n",
    "            from: \"userinfo\",       // other table name\n",
    "            localField: \"userId\",   // name of users table field\n",
    "            foreignField: \"userId\", // name of userinfo table field\n",
    "            as: \"user_info\"         // alias for userinfo table\n",
    "        }\n",
    "    },\n",
    "    {   $unwind:\"$user_info\" },     // $unwind used for getting data in object or for one record only\n",
    "\n",
    "    // Join with user_role table\n",
    "    {\n",
    "        $lookup:{\n",
    "            from: \"userrole\", \n",
    "            localField: \"userId\", \n",
    "            foreignField: \"userId\",\n",
    "            as: \"user_role\"\n",
    "        }\n",
    "    },\n",
    "    {   $unwind:\"$user_role\" },\n",
    "\n",
    "    // define some conditions here \n",
    "    {\n",
    "        $match:{\n",
    "            $and:[{\"userName\" : \"admin\"}]\n",
    "        }\n",
    "    },\n",
    "\n",
    "    // define which fields are you want to fetch\n",
    "    {   \n",
    "        $project:{\n",
    "            _id : 1,\n",
    "            email : 1,\n",
    "            userName : 1,\n",
    "            userPhone : \"$user_info.phone\",\n",
    "            role : \"$user_role.role\",\n",
    "        } \n",
    "    }\n",
    "]);"
   ]
  },
  {
   "cell_type": "code",
   "execution_count": null,
   "metadata": {},
   "outputs": [],
   "source": []
  },
  {
   "attachments": {},
   "cell_type": "markdown",
   "metadata": {},
   "source": [
    "## 刪除Mongo 內的資料"
   ]
  },
  {
   "attachments": {},
   "cell_type": "markdown",
   "metadata": {},
   "source": [
    "### 根據條件刪除多筆資料"
   ]
  },
  {
   "cell_type": "code",
   "execution_count": 100,
   "metadata": {},
   "outputs": [
    {
     "name": "stderr",
     "output_type": "stream",
     "text": [
      "/Users/davidchiu/.pyenv/versions/3.7.3/lib/python3.7/site-packages/ipykernel_launcher.py:2: DeprecationWarning: count is deprecated. Use estimated_document_count or count_documents instead. Please note that $where must be replaced by $expr, $near must be replaced by $geoWithin with $center, and $nearSphere must be replaced by $geoWithin with $centerSphere\n",
      "  \n"
     ]
    },
    {
     "data": {
      "text/plain": [
       "796"
      ]
     },
     "execution_count": 100,
     "metadata": {},
     "output_type": "execute_result"
    }
   ],
   "source": [
    "coll.delete_many({'sectionname': {'$regex' :'文山區'}})\n",
    "coll.count()"
   ]
  },
  {
   "attachments": {},
   "cell_type": "markdown",
   "metadata": {},
   "source": [
    "### 捨棄整個Collection 的資料"
   ]
  },
  {
   "cell_type": "code",
   "execution_count": 101,
   "metadata": {},
   "outputs": [
    {
     "name": "stderr",
     "output_type": "stream",
     "text": [
      "/Users/davidchiu/.pyenv/versions/3.7.3/lib/python3.7/site-packages/ipykernel_launcher.py:2: DeprecationWarning: count is deprecated. Use estimated_document_count or count_documents instead. Please note that $where must be replaced by $expr, $near must be replaced by $geoWithin with $center, and $nearSphere must be replaced by $geoWithin with $centerSphere\n",
      "  \n"
     ]
    },
    {
     "data": {
      "text/plain": [
       "0"
      ]
     },
     "execution_count": 101,
     "metadata": {},
     "output_type": "execute_result"
    }
   ],
   "source": [
    "coll.drop()\n",
    "coll.count()"
   ]
  }
 ],
 "metadata": {
  "kernelspec": {
   "display_name": "Python 3",
   "language": "python",
   "name": "python3"
  },
  "language_info": {
   "codemirror_mode": {
    "name": "ipython",
    "version": 3
   },
   "file_extension": ".py",
   "mimetype": "text/x-python",
   "name": "python",
   "nbconvert_exporter": "python",
   "pygments_lexer": "ipython3",
   "version": "3.7.3"
  }
 },
 "nbformat": 4,
 "nbformat_minor": 4
}
